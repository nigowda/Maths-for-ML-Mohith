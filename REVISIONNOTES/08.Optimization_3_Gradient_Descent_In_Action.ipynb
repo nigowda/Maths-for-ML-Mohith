{
  "nbformat": 4,
  "nbformat_minor": 0,
  "metadata": {
    "colab": {
      "provenance": [],
      "toc_visible": true
    },
    "kernelspec": {
      "name": "python3",
      "display_name": "Python 3"
    },
    "language_info": {
      "name": "python"
    }
  },
  "cells": [
    {
      "cell_type": "markdown",
      "source": [
        "## Content\n",
        "- Recap\n",
        "- Intro to Multivariable Calculus\n",
        "- Partial derivatives\n",
        "- Intro to gradients\n",
        "  - Representation of gradients\n",
        "  - Geometric interpretation of gradients\n",
        "- Computing gradient of any function\n",
        "- Computing partial derivatives code\n",
        "- Intution of Gradient descent\n",
        "- Generalization of gradient descent\n"
      ],
      "metadata": {
        "id": "sF9mv35KodWp"
      }
    },
    {
      "cell_type": "markdown",
      "source": [
        "## Recap"
      ],
      "metadata": {
        "id": "o50UGUKdpI8R"
      }
    },
    {
      "cell_type": "markdown",
      "source": [
        "![](https://d2beiqkhq929f0.cloudfront.net/public_assets/assets/000/048/931/original/Screenshot_2023-09-18_at_3.05.22_PM.png?1695029739)"
      ],
      "metadata": {
        "id": "Y4GBHaNUpQ0v"
      }
    },
    {
      "cell_type": "markdown",
      "source": [
        "## Intro to Multivariable Calculus"
      ],
      "metadata": {
        "id": "8p7S0_Yqpb1O"
      }
    },
    {
      "cell_type": "markdown",
      "source": [
        "We saw in previous classes that if we have a function $f(x)$ here $x$ is our input variable and this function only depends on one input variable which is x\n",
        "\n",
        "Let's say that we have a funcion which takes 2 inputs ie $f(x,y)=x^2+y^2$ so we call this is a a function taking multiple variables as input\n",
        "\n",
        "Q. How many outputs would we get for this function?\n",
        "- We'll get only one output\n",
        "\n",
        "We can represent as x and y as vectors because functions with multiple variables accept vectors as input and returns a single value as output\n",
        "\n",
        "in terms of domain and range it is as shown  "
      ],
      "metadata": {
        "id": "VTNUwikVrWwe"
      }
    },
    {
      "cell_type": "markdown",
      "source": [
        "![](https://d2beiqkhq929f0.cloudfront.net/public_assets/assets/000/048/932/original/Screenshot_2023-09-18_at_3.19.57_PM.png?1695030613)"
      ],
      "metadata": {
        "id": "Zudgdza4siWf"
      }
    },
    {
      "cell_type": "markdown",
      "source": [
        "## Partial Dervative"
      ],
      "metadata": {
        "id": "jLdyjHKZty33"
      }
    },
    {
      "cell_type": "markdown",
      "source": [
        "Earlier when we were differentiating we had only one variable x now how do we extend the same idea when we have multiple variables for a function\n",
        "- The idea is that when we are taking partial derivatives we treat all the other variables as constant hence the term partial which means we take only one varaible at a time since that won't be a complete derivate of the function hence it is called as a **Partial derivaitve**\n",
        "\n",
        "Let's compute partial derviate for $f(x,y)=x^2+y^2$\n",
        "- We represent the partial derivative using the symbol $\\partial$ called as **doh** or **dee** or **del** or **Jacobi's delta**\n",
        "- So first we find the partial derivatie with only one variable let say x\n",
        "  - So it is represented as $\\frac{\\partial }{\\partial x}=2x$\n",
        "  - Here $y^2$ is a constant term and derivative of a constant is 0\n",
        "  - it tells us what is the rate of change of the function in x direction\n",
        "- Next we treat x variable as constant and find ther pertial derviate with respect to y\n",
        "  - So it is represented as $\\frac{\\partial }{\\partial y}=2y$\n",
        "  - Here $x^2$ is a constant term and derivative of a constant is 0\n",
        "  - it tells us what is the rate of change of the function in y direction"
      ],
      "metadata": {
        "id": "bw04pTf52xvZ"
      }
    },
    {
      "cell_type": "markdown",
      "source": [
        "![](https://d2beiqkhq929f0.cloudfront.net/public_assets/assets/000/048/936/original/Screenshot_2023-09-18_at_4.14.49_PM.png?1695033906)"
      ],
      "metadata": {
        "id": "l5VZYfjT5PiP"
      }
    },
    {
      "cell_type": "markdown",
      "source": [
        "Let's take another example to better understand\n",
        "given function $f(w_1,w_2,w_0)=w_1x1+w_2x_2+w_0$\n",
        "find the partial derivate fo this function with respect to $w_1$,$w_2$ and $w_0$\n",
        "\n",
        "\n",
        "- $\\frac{\\partial }{\\partial w_1}f(w_1,w_2,w_0)=x_1$\n",
        "- $\\frac{\\partial }{\\partial w_2}f(w_1,w_2,w_0)=x_2$\n",
        "- $\\frac{\\partial }{\\partial w_0}f(w_1,w_2,w_0)=1$"
      ],
      "metadata": {
        "id": "NL1z9Yi05dUv"
      }
    },
    {
      "cell_type": "markdown",
      "source": [
        "![](https://d2beiqkhq929f0.cloudfront.net/public_assets/assets/000/048/940/original/Screenshot_2023-09-18_at_4.42.30_PM.png?1695035566)"
      ],
      "metadata": {
        "id": "JgqcB-7n6qRS"
      }
    },
    {
      "cell_type": "markdown",
      "source": [
        "## Intro to gradients"
      ],
      "metadata": {
        "id": "f5dLWt1hRftK"
      }
    },
    {
      "cell_type": "markdown",
      "source": [
        "### Representation of gradient"
      ],
      "metadata": {
        "id": "0APsPQPyVYWY"
      }
    },
    {
      "cell_type": "markdown",
      "source": [
        "We can represent all the weight vectors in terms of a weight vector $\\bar{w}$ thus we can represent the function $f(w_1,w_2,w_0)$ as $f(\\bar{w})$\n",
        "- Now the partial derivates that we computed for each variable of the function when combined together and **represented as a vector** is called as **gradient**.\n",
        "- If we had 4 varibles as input then we would have 4 variables in the output ie $\\frac{\\partial f}{\\partial w_1}$, $\\frac{\\partial f}{\\partial w_2}$, $\\frac{\\partial f}{\\partial w_3}$ and $\\frac{\\partial f}{\\partial w_4}$\n",
        "- It is denoted with the $\\nabla$ symbol\n",
        "- We can think of $\\nabla_\\bar{w}f(\\bar{w})$ as a **vector** full of partial derivaties and is defined as $\\nabla_\\bar{w}f(\\bar{w})=[x_1,x_2,1]^T$\n",
        "- We can think of a gradient as a function which takes a function as input and outputs a vector whose dimension is determined by the number of variables present in that function"
      ],
      "metadata": {
        "id": "EX4N5sAP6rzw"
      }
    },
    {
      "cell_type": "markdown",
      "source": [
        "### Geometric interpretation of gradient"
      ],
      "metadata": {
        "id": "C6oMXOxmVbDH"
      }
    },
    {
      "cell_type": "markdown",
      "source": [
        "When we were learning about minima and maxima the function that we saw it had only one input and we could easily say that the slope at a particular point is nothing but the tangent at that point.\n",
        "\n",
        "So how can we relate the same concept when we have multiple variables?\n",
        "- We said that gradient is nothing but a vector made of partial derivatives of the given multivariable function\n",
        "- So now when we have 2 variables let say $x$ and $y$ let say those point be $(2,1)$ for the function $f(x,y)=x^2+y^2$ the gradient of this function would be $[4,2]^T$.\n",
        "- This gradient vector is the closest thing to a slope in higher dimensions.\n",
        "- Since the gradient of the function is vector it'll have a magnitude and a direction right,\n",
        "  - so the magnitude of this vector tells us about the maximum rate of change in both the x and y direction for the given function.\n",
        "  - and the direction of the vector will always been in the **direction of steepest ascent** or we can say that it points in the direction where the value of the function increase.\n",
        "  - if we look at the function we see that the value of the function decreases as we move towards the origin or the minima hence in order to increase it'll move away from that.\n",
        "    - You can imagine it like in which direction should we move in order to climb out of this bowl."
      ],
      "metadata": {
        "id": "e7bgN32rUEVp"
      }
    },
    {
      "cell_type": "markdown",
      "source": [
        "![](https://d2beiqkhq929f0.cloudfront.net/public_assets/assets/000/048/939/original/Screenshot_2023-09-18_at_4.41.10_PM.png?1695035481)"
      ],
      "metadata": {
        "id": "ds_HsJNP_P39"
      }
    },
    {
      "cell_type": "markdown",
      "source": [
        "So we can see that the gradient always points in the direction of steepest ascent or in the direction where the value of the function increases in order to reach the minima point what should we do?\n",
        "- we take the negative of the gradient, because we want to desent and not ascent as at the minimum point the loss function will be the minimum and have the lowest error."
      ],
      "metadata": {
        "id": "mlVHLIqWhJ4P"
      }
    },
    {
      "cell_type": "markdown",
      "source": [
        "Let's see how to find the gradient for the function $f(x,y)=3log(xy)+4y^2x^2$\n",
        "- Geogebra link: https://www.geogebra.org/3d/ytzna5m3"
      ],
      "metadata": {
        "id": "LVvuRx9g_sT2"
      }
    },
    {
      "cell_type": "markdown",
      "source": [
        "![](https://d2beiqkhq929f0.cloudfront.net/public_assets/assets/000/048/941/original/Screenshot_2023-09-18_at_4.44.49_PM.png?1695035942)"
      ],
      "metadata": {
        "id": "81zywmGeAB0l"
      }
    },
    {
      "cell_type": "markdown",
      "source": [
        "When taking a gradient of a vector\n",
        "- We use the term **Derivate** when we have only one variable for a function or we can also say that it is gradient for single variable functions\n",
        "- We use the term **Gardient** when we have multiple variables for a function."
      ],
      "metadata": {
        "id": "IhNpyfpvBNxO"
      }
    },
    {
      "cell_type": "markdown",
      "source": [
        "![](https://d2beiqkhq929f0.cloudfront.net/public_assets/assets/000/048/942/original/Screenshot_2023-09-18_at_4.52.57_PM.png?1695036192)"
      ],
      "metadata": {
        "id": "Y4sxaLBbB9wM"
      }
    },
    {
      "cell_type": "markdown",
      "source": [
        "## Computing gradient of any function"
      ],
      "metadata": {
        "id": "Ih4apqGzCKWs"
      }
    },
    {
      "cell_type": "markdown",
      "source": [
        "Here\n",
        "- $\\bar{x}$ can have n number of features/variables"
      ],
      "metadata": {
        "id": "T7TQtOccCdCq"
      }
    },
    {
      "cell_type": "markdown",
      "source": [
        "![](https://d2beiqkhq929f0.cloudfront.net/public_assets/assets/000/048/943/original/Screenshot_2023-09-18_at_4.54.41_PM.png?1695036301)"
      ],
      "metadata": {
        "id": "5TrD8yVPCXwZ"
      }
    },
    {
      "cell_type": "markdown",
      "source": [
        "Q. Find the gradient of the function $f(x_1,x_2)=log(x_1)+\\frac{x_1}{x_2}e^{x_1+x_2}$"
      ],
      "metadata": {
        "id": "Gijtx8E7Dzx8"
      }
    },
    {
      "cell_type": "markdown",
      "source": [
        "![](https://d2beiqkhq929f0.cloudfront.net/public_assets/assets/000/048/944/original/Screenshot_2023-09-18_at_5.03.11_PM.png?1695036811)"
      ],
      "metadata": {
        "id": "5XE5fgOQEGWo"
      }
    },
    {
      "cell_type": "markdown",
      "source": [
        "![](https://d2beiqkhq929f0.cloudfront.net/public_assets/assets/000/048/945/original/Screenshot_2023-09-18_at_5.04.21_PM.png?1695036876)"
      ],
      "metadata": {
        "id": "4ZPEtHwxEVMx"
      }
    },
    {
      "cell_type": "markdown",
      "source": [
        "## Computing partial derivatives code"
      ],
      "metadata": {
        "id": "a0p8Gl1bElCt"
      }
    },
    {
      "cell_type": "markdown",
      "source": [
        "In order to to compute the derivatives we'll use the *ab-initio method* which is using the standard defination of derivaitives using limits but will extend it to functions with multiple variables as shown"
      ],
      "metadata": {
        "id": "sW5VpCYgFxe0"
      }
    },
    {
      "cell_type": "markdown",
      "source": [
        "![](https://d2beiqkhq929f0.cloudfront.net/public_assets/assets/000/048/949/original/Screenshot_2023-09-18_at_5.12.16_PM.png?1695037351)"
      ],
      "metadata": {
        "id": "uE4GVCPhGK29"
      }
    },
    {
      "cell_type": "code",
      "execution_count": null,
      "metadata": {
        "id": "e62f98a8"
      },
      "outputs": [],
      "source": [
        "import numpy as np\n",
        "import pandas as pd\n",
        "import matplotlib.pyplot as plt\n"
      ]
    },
    {
      "cell_type": "code",
      "execution_count": null,
      "metadata": {
        "id": "ef1de73b"
      },
      "outputs": [],
      "source": [
        "def get_partials(func, x, y):\n",
        "    delta = 0.001\n",
        "    fx= (func(x+delta,y)-func(x,y))/delta\n",
        "    fy= (func(x,y+delta)-func(x,y))/delta\n",
        "    return fx, fy"
      ]
    },
    {
      "cell_type": "code",
      "source": [
        "func = lambda x,y: x**2 + y**2"
      ],
      "metadata": {
        "id": "Hu8MD2j9O7dr"
      },
      "execution_count": null,
      "outputs": []
    },
    {
      "cell_type": "code",
      "source": [
        "get_partials(func, 3, 4)"
      ],
      "metadata": {
        "colab": {
          "base_uri": "https://localhost:8080/"
        },
        "id": "9ZSuIsurO_3M",
        "outputId": "7018de46-27a9-49ea-c014-0ca4bd8dea15"
      },
      "execution_count": null,
      "outputs": [
        {
          "output_type": "execute_result",
          "data": {
            "text/plain": [
              "(6.000999999997703, 8.0010000000037)"
            ]
          },
          "metadata": {},
          "execution_count": 4
        }
      ]
    },
    {
      "cell_type": "markdown",
      "source": [
        "As expected, we got gradients as (6, 8) for point (3, 4)\n",
        "\n",
        "Therefore the vector points in the direction of increase of function."
      ],
      "metadata": {
        "id": "ZpJDuLnOPOFh"
      }
    },
    {
      "cell_type": "markdown",
      "source": [
        "Let's plot the function\n",
        "\n",
        "Earlier we used to use `np.linspace()` and evaluate corresponding y-value, when we were working with function of 1 variable.\n",
        "\n",
        "Since now we have 2 vars, we need to form a **Grid** of x and y values, that can be used to evaluate corresponding function value."
      ],
      "metadata": {
        "id": "dxi6baKjPyE9"
      }
    },
    {
      "cell_type": "code",
      "execution_count": null,
      "metadata": {
        "id": "e08b4ff7"
      },
      "outputs": [],
      "source": [
        "#creating a 2D grid\n",
        "def get_grid(axis_lim):\n",
        "    x= np.linspace(-axis_lim,axis_lim,20)\n",
        "    y= np.linspace(-axis_lim,axis_lim,20)\n",
        "    g1,g2 = np.meshgrid(x,y)\n",
        "    return g1,g2"
      ]
    },
    {
      "cell_type": "code",
      "source": [
        "axis_lim = 10\n",
        "g1, g2 = get_grid(axis_lim)"
      ],
      "metadata": {
        "id": "RBb4cvcCQrAq"
      },
      "execution_count": null,
      "outputs": []
    },
    {
      "cell_type": "code",
      "source": [
        "g1.shape"
      ],
      "metadata": {
        "colab": {
          "base_uri": "https://localhost:8080/"
        },
        "id": "WKF5c7zmQvxe",
        "outputId": "b4c5b62a-41c3-4899-8c1d-439bba0841fd"
      },
      "execution_count": null,
      "outputs": [
        {
          "output_type": "execute_result",
          "data": {
            "text/plain": [
              "(20, 20)"
            ]
          },
          "metadata": {},
          "execution_count": 7
        }
      ]
    },
    {
      "cell_type": "code",
      "source": [
        "g2.shape"
      ],
      "metadata": {
        "colab": {
          "base_uri": "https://localhost:8080/"
        },
        "id": "mJUVnZd2Qw8V",
        "outputId": "b6fe6f7f-eca3-42a5-8518-9feae97407a0"
      },
      "execution_count": null,
      "outputs": [
        {
          "output_type": "execute_result",
          "data": {
            "text/plain": [
              "(20, 20)"
            ]
          },
          "metadata": {},
          "execution_count": 8
        }
      ]
    },
    {
      "cell_type": "markdown",
      "source": [
        "> **What are g1 and g2? (Understanding `np.meshgrid()`)**\n",
        "\n",
        "In our implementation of `get_grid()`, we defined x and y using `linspace`, as we want to evaluate the corresponding values of the function.\n",
        "\n",
        "Suppose x and y look like:\n",
        "```\n",
        "x = [1, 2, 3, 4]\n",
        "y = [10, 20, 30, 40]\n",
        "\n",
        "Then we want a grid like:\n",
        "[[(1, 10), (2, 10), (3, 10), (4, 10)],\n",
        " [(1, 20), (2, 20), (3, 20), (4, 20)],\n",
        " [(1, 30), (2, 30), (3, 30), (4, 30)],\n",
        " [(1, 40), (2, 40), (3, 40), (4, 40)]]\n",
        " ```\n",
        "\n",
        " This is exactly what we get using `np.meshgrod()`, that gives the x-coordinates and y-coordinates of these points as different lists: `g1 and g2`\n",
        "\n",
        " It is exactly like `np.linspace()` , but for 2-dimensions"
      ],
      "metadata": {
        "id": "iDuAq0XlRBCq"
      }
    },
    {
      "cell_type": "markdown",
      "source": [
        "Now, we have a function to evaluate partials at a given point.\n",
        "\n",
        "And we have a meshgrid for all the points we want to evaluate at.\n",
        "\n",
        "So let's create a function that calculates the partials value for each location on the xy grid, and stores that into some variable."
      ],
      "metadata": {
        "id": "XMhuZRs6SmD_"
      }
    },
    {
      "cell_type": "markdown",
      "source": [
        "> **What kind of data structure can we use to store these partial values?**\n",
        "\n",
        "We will require a structure similar to how values are stored in `g1 and g2`\n",
        "\n",
        "So, lets use matrices of the same shape, i.e. (20, 20)"
      ],
      "metadata": {
        "id": "2DI8uTPpUW5F"
      }
    },
    {
      "cell_type": "code",
      "execution_count": null,
      "metadata": {
        "id": "c918875b"
      },
      "outputs": [],
      "source": [
        "#getting gradients for all the points in the 2d grid defined above\n",
        "def get_partials_from_grid(func,g1,g2):\n",
        "    U = np.zeros(g1.shape) # df/dx\n",
        "    V = np.zeros(g2.shape) # df/dy\n",
        "    for rows_id,(row_x,row_y) in enumerate(zip(g1,g2)):\n",
        "        for col_id,(x,y) in enumerate(zip(row_x,row_y)):\n",
        "            fx,fy = get_partials(func, x, y)\n",
        "            U[rows_id,col_id] = fx\n",
        "            V[rows_id,col_id] = fy\n",
        "    return U,V"
      ]
    },
    {
      "cell_type": "code",
      "execution_count": null,
      "metadata": {
        "id": "c6c2c5d1"
      },
      "outputs": [],
      "source": [
        "def plot_gradients(g1,g2,U,V):\n",
        "    fig,ax=plt.subplots()\n",
        "    q=ax.quiver(g1,g2,U,V)\n",
        "    plt.show()"
      ]
    },
    {
      "cell_type": "code",
      "execution_count": null,
      "metadata": {
        "id": "760de595",
        "outputId": "a58de7f6-e5c7-4f5e-b312-fd6a97aaa1eb"
      },
      "outputs": [
        {
          "data": {
            "image/png": "[encoded data removed]",
            "text/plain": [
              "<Figure size 432x288 with 1 Axes>"
            ]
          },
          "metadata": {
            "needs_background": "light"
          },
          "output_type": "display_data"
        }
      ],
      "source": [
        "func = lambda x,y : x**2 + y**2\n",
        "axis_lim = 10\n",
        "g1,g2 = get_grid(axis_lim)\n",
        "U,V = get_partials_from_grid(func,g1,g2)\n",
        "plot_gradients(g1,g2,U,V)"
      ]
    },
    {
      "cell_type": "code",
      "execution_count": null,
      "metadata": {
        "id": "189b26ad",
        "outputId": "0aa49a33-0fce-469b-bb6a-a6e115bf45aa"
      },
      "outputs": [
        {
          "data": {
            "image/png": "[encoded data removed]",
            "text/plain": [
              "<Figure size 432x288 with 1 Axes>"
            ]
          },
          "metadata": {
            "needs_background": "light"
          },
          "output_type": "display_data"
        }
      ],
      "source": [
        "func = lambda x,y : x**2 + y**2\n",
        "axis_lim = 10\n",
        "g1,g2 = get_grid(axis_lim)\n",
        "U,V = get_partials_from_grid(func,g1,g2)\n",
        "plot_gradients(g1,g2,-U,-V)"
      ]
    },
    {
      "cell_type": "markdown",
      "source": [
        "Q **What will happen if we plot the negative of gradients?**\n",
        "\n",
        "- The arrows will point inwards, towards the point of minima."
      ],
      "metadata": {
        "id": "PFj1rqTdqkOr"
      }
    },
    {
      "cell_type": "markdown",
      "source": [
        "## Intution of Gradient descent"
      ],
      "metadata": {
        "id": "0zzx_9U60Kh4"
      }
    },
    {
      "cell_type": "markdown",
      "source": [
        "Let's say that we have a function $f(x)=x^2$ and $f'(x)=2x$\n",
        "- For any point that lies on the curve of the function we can get a tangent at that point and the value of the slope would be negatvie for the left side of the curve and positive for the right side of the curve\n",
        "- Now when we are taking negative of the gradients we are moving in the direction of minima ie the gradient is telling us in which direction do we want to move\n",
        "\n",
        "\n",
        "**Understanding the term gradient descent**\n",
        "- Here descent means we want to go down and ascent means we want to go up and loss function we want to minimize the value of the loss function and hence we want to descent wherein we go towards the minimum of the function\n",
        "- The term gradients comes from the partial derivaitives that we are taking\n",
        "\n",
        "**Goal of gradeint descent**\n",
        "- The entire goal is to find at what value the given function is minimum\n"
      ],
      "metadata": {
        "id": "1J6Cmp53-m_U"
      }
    },
    {
      "cell_type": "markdown",
      "source": [
        "**Steps for gradient descent:**\n",
        "1. We start with an intial guess of x where the function would be minimum\n",
        "  - is this really the case?\n",
        "    - No if we let say take x=2 then corresponding y value would be 4 which is not the minimum\n",
        "  - So what should we do here?\n",
        "    - if we can find a way to update the x such that we move towards minima then eventually we'll reach minima\n",
        "  - What was the brute force appraoch that we saw?\n",
        "    - we take values of x between a given interval with some step size and if we are luckly then we'll find the minima\n",
        "  - Let's learn a smarter way to do so\n",
        "    - Let's fid the gradient at point x=2 because we know that negative of the gradient will always point towards the minimum of the function so we can always move in that direction to reach the minimum value\n",
        "2. Find the gradient/slope of the tangent at the point we took in step 1\n",
        "  - for x=-2 what is the derivate?\n",
        "    - it is -4\n",
        "    - if you see it is autmatically going towards the direction of minimum so no need to take the negative of the gradient\n",
        "3. Update the point\n",
        "  - we know from step 2 that the minimum does not lie at the point we gussed in step 1 thus we'll udate this guess\n",
        "  - We'll update this guess using the gradient descent rule"
      ],
      "metadata": {
        "id": "YaD2GAhNAUxT"
      }
    },
    {
      "cell_type": "markdown",
      "source": [
        "![](https://d2beiqkhq929f0.cloudfront.net/public_assets/assets/000/049/384/original/Screenshot_2023-09-20_at_10.53.46_AM.png?1695187438)"
      ],
      "metadata": {
        "id": "JRCu1pYFCxlZ"
      }
    },
    {
      "cell_type": "markdown",
      "source": [
        "**Update rule of gradient descent**\n",
        "- Let's say that our initial guess was $x^{(0)}$\n",
        "- $x^{(1)}$=$x^{(0)}- \\eta \\frac{d}{dx}f(x) $\n",
        "  - Here $x^{(1)}$ is our next guess or next point\n",
        "  - $\\eta$ is our learning rate we'll discuss this ahead\n",
        "  - Now we say that our $\\frac{d}{dx}f(x)$ was coming out to be -4 then why are we subtracting $\\frac{d}{dx}f(x)$ here?\n",
        "    - we intially took x=-2 now and in order to reach the value of x where the function is minimum we need to increase our x\n",
        "    - so our $x^{(0)}$ is -2 and let's ignore $\\eta$ for now and $\\frac{d}{dx}f(x)$ is -4 thus =$x^{(0)}- \\eta \\frac{d}{dx}f(x) $ will be -2+(-4) would give us -6 do you agree that we are moving away from the minima?\n",
        "      - Yes if we subtract then we'll get -2+4 which is 2 thus our new guess or the new point will be 2 ie $x^{(1)}=2$\n",
        "\n",
        "\n",
        "Will this update rule still work if we start on the right hand side of the curve?\n",
        "- Let say we start at x=2 this time thus the value of $f'(x)$ at x=2 is 4  \n",
        "- in order to go towards the minimum we should we go towards the left side or the right side ie greater than 2 or less than 2?\n",
        "  - Less than 2 ie on the left hand side\n",
        "  - Thus our update rule would look like 2-4 which is -2\n",
        "  - Thus you can see that this rule still applies if the slope is positive\n",
        "\n",
        "Thus we can see that\n",
        "- If the slope is negative then we'll convert it into positive and add that from our intial point\n",
        "- If the slope is Positive then we'll take it as it is and subtract that from our intial point"
      ],
      "metadata": {
        "id": "fmxt1U2uDOaD"
      }
    },
    {
      "cell_type": "markdown",
      "source": [
        "![](https://d2beiqkhq929f0.cloudfront.net/public_assets/assets/000/049/396/original/Screenshot_2023-09-20_at_11.12.07_AM.png?1695188542)"
      ],
      "metadata": {
        "id": "ehXgfZyhHIlx"
      }
    },
    {
      "cell_type": "markdown",
      "source": [
        "What is $\\eta$?\n",
        "- Now when we are updating our point or guess we can either take small steps towards our minima or we can take larger steps to reach the minima\n",
        "- In the below plot what do you think is the best appraoch to reach the minimum point? Green or Blue one?\n",
        "  - Blue one"
      ],
      "metadata": {
        "id": "YHieeXXKGtq-"
      }
    },
    {
      "cell_type": "markdown",
      "source": [
        "![](https://d2beiqkhq929f0.cloudfront.net/public_assets/assets/000/049/399/original/Screenshot_2023-09-20_at_11.13.53_AM.png?1695188647)"
      ],
      "metadata": {
        "id": "X1lIGYabHiTv"
      }
    },
    {
      "cell_type": "markdown",
      "source": [
        "Thus the gradient tells us the direction where we want to move but how much to walk in the direction is given by $\\eta$\n",
        "- It should be small but not too small and also not too large\n",
        "\n",
        "Let's take $\\eta=0.1$\n",
        "- The update step would be\n",
        "- $x^{(1)}$=$(-2) - 0.1* (-4) $\n",
        "  - $x^{(1)}$=$(-2) + 0.4 $\n",
        "  - $x^{(1)}$=$-1.6$"
      ],
      "metadata": {
        "id": "A5qXi9m4Hq4i"
      }
    },
    {
      "cell_type": "markdown",
      "source": [
        "![](https://d2beiqkhq929f0.cloudfront.net/public_assets/assets/000/049/405/original/Screenshot_2023-09-20_at_11.23.28_AM.png?1695189223)"
      ],
      "metadata": {
        "id": "fBUN_PSwJt6W"
      }
    },
    {
      "cell_type": "markdown",
      "source": [
        "![](https://d2beiqkhq929f0.cloudfront.net/public_assets/assets/000/049/406/original/Screenshot_2023-09-20_at_11.24.40_AM.png?1695189294)"
      ],
      "metadata": {
        "id": "9ZSqRwB9KBgU"
      }
    },
    {
      "cell_type": "markdown",
      "source": [
        "We keep doing this untill we reach the minimum value\n",
        "\n",
        "Also do you observe that as we are moving closer and closer to our minimum point our step size is decreasing"
      ],
      "metadata": {
        "id": "UfkNu-J0KCdz"
      }
    },
    {
      "cell_type": "markdown",
      "source": [
        "![](https://d2beiqkhq929f0.cloudfront.net/public_assets/assets/000/049/407/original/Screenshot_2023-09-20_at_11.27.58_AM.png?1695189494)"
      ],
      "metadata": {
        "id": "SR7RPQeWKwxv"
      }
    },
    {
      "cell_type": "markdown",
      "source": [
        "## Generalization of Gradient descent"
      ],
      "metadata": {
        "id": "g3qM4bDLau9C"
      }
    },
    {
      "cell_type": "markdown",
      "source": [
        "Whatever we learnt till now in this lecture was for one varaible of x can we apply the same thing for a function which has 2 variables?\n",
        "- Yes we can generalize our gradient descent algorithm to work for functions that take n varaibles as input\n",
        "\n",
        "For function which takes n variables as input the generalize equation of the update rule is as shown below"
      ],
      "metadata": {
        "id": "Gl9vhOniKx5V"
      }
    },
    {
      "cell_type": "markdown",
      "source": [
        "![](https://d2beiqkhq929f0.cloudfront.net/public_assets/assets/000/049/408/original/Screenshot_2023-09-20_at_11.31.53_AM.png?1695189725)"
      ],
      "metadata": {
        "id": "oL_qcS1YLopL"
      }
    },
    {
      "cell_type": "markdown",
      "source": [
        "Note that the loss function for different algorithm will keep changing but the way to optimize the weight parameters will remain the same"
      ],
      "metadata": {
        "id": "3DO9drSZL7vv"
      }
    }
  ]
}