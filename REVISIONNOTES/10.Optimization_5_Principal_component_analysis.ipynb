{
  "nbformat": 4,
  "nbformat_minor": 0,
  "metadata": {
    "colab": {
      "provenance": [],
      "toc_visible": true
    },
    "kernelspec": {
      "name": "python3",
      "display_name": "Python 3"
    },
    "language_info": {
      "name": "python"
    }
  },
  "cells": [
    {
      "cell_type": "markdown",
      "source": [
        "## Content\n",
        "- Recap\n",
        "- Variants of gradient descent\n",
        "  - Vanilla GD\n",
        "  - SGD\n",
        "  - Batch GD\n",
        "- Dimensionality reduction\n",
        "- Input output relationship\n",
        "- Example height vs age\n",
        "- Visual understanding of PCA\n",
        "- Implementing PCA\n",
        "- Mathematical approach of optimizing PCA\n",
        "- What is eigen vector\n",
        "- PCA coding implementation"
      ],
      "metadata": {
        "id": "gfuvB7USHXwO"
      }
    },
    {
      "cell_type": "markdown",
      "source": [
        "## Recap"
      ],
      "metadata": {
        "id": "T4NuwhdiTVUI"
      }
    },
    {
      "cell_type": "markdown",
      "source": [
        "Our classification problem was that we want to find the best lines that seperates red points from green points such that the distances between the points and the lines is maximum\n",
        "- to do that we learnt about the loss function and we also learnt how to update the parameters using the gradient descent rule"
      ],
      "metadata": {
        "id": "Y0jUG9N1UZlz"
      }
    },
    {
      "cell_type": "markdown",
      "source": [
        "![](https://d2beiqkhq929f0.cloudfront.net/public_assets/assets/000/050/158/original/Screenshot_2023-09-22_at_3.28.20_PM.png?1695376716)"
      ],
      "metadata": {
        "id": "iZth9yKJU0vO"
      }
    },
    {
      "cell_type": "markdown",
      "source": [
        "Q. How is the varaible $\\lambda$ effecting the overall loss function?\n",
        "- This is very important variable and is called as **regularizer**\n",
        "- $\\lambda$ controls the importance of the term $\\left||w\\right||-1$\n",
        "  - So if the value of $\\lambda$ is very large then $\\left||w\\right||$ becomes very very important when optimizing for the loss\n",
        "    - because we want the loss function to be minimum and sicne $\\lambda$ is very large while optimizing we'll ensure that the $\\left||w\\right||$ becomes small so that when we multiply $\\lambda$ with $\\left||w\\right||-1$ the values reduces thus reducing our loss function\n",
        "  - And if the value of $\\lambda$ becomes very small then the importance of the term $\\left||w\\right||-1$ reduces\n",
        "   "
      ],
      "metadata": {
        "id": "J9KuhBLVU972"
      }
    },
    {
      "cell_type": "markdown",
      "source": [
        "![](https://d2beiqkhq929f0.cloudfront.net/public_assets/assets/000/050/157/original/Screenshot_2023-09-22_at_3.25.52_PM.png?1695376569)"
      ],
      "metadata": {
        "id": "IGdjen1FUA7V"
      }
    },
    {
      "cell_type": "markdown",
      "source": [
        "## Variants of Gradient descent"
      ],
      "metadata": {
        "id": "JtgLdA7Qb1eC"
      }
    },
    {
      "cell_type": "markdown",
      "source": [
        "### Vanilla gardient descent"
      ],
      "metadata": {
        "id": "9XjTdxqzb5IG"
      }
    },
    {
      "cell_type": "markdown",
      "source": [
        "**Q. What will be the time it takes to find the minimum value using the gradient descent update rule that we saw above? Let's say that we have 10 Million datapoints**\n",
        "\n",
        "Hint: What is n in the formula?\n",
        "  - It is the number of data poitns or the size of the datasets\n",
        "- For one updation of $\\bar{w}$ and $w_0$ we'll have to go through all the data points to find the summation value.\n",
        "- Thus the update process of the parameters will be very very slow plus it'll require lot of computational resources.\n",
        "- Thus the time complexity of this process would be $O(n)$"
      ],
      "metadata": {
        "id": "trIuXI7-cIbs"
      }
    },
    {
      "cell_type": "markdown",
      "source": [
        "![](https://d2beiqkhq929f0.cloudfront.net/public_assets/assets/000/050/168/original/Screenshot_2023-09-22_at_4.12.42_PM.png?1695379380)"
      ],
      "metadata": {
        "id": "b4dd-R-ofHde"
      }
    },
    {
      "cell_type": "markdown",
      "source": [
        "### Stochastic Gradient descent"
      ],
      "metadata": {
        "id": "k3MLyItTfIws"
      }
    },
    {
      "cell_type": "markdown",
      "source": [
        "We saw in previous class a plot of graidents which were pointing towards the minimum value of the function and do you also recall that we start randomly with a point and then we take a step towrds the minimum value\n",
        "\n",
        "Q. Do you agree that for the vanilla gradient descent algo for each step we are looping over the entire dataset?\n",
        "  - Yes"
      ],
      "metadata": {
        "id": "qOF-aFlaiD65"
      }
    },
    {
      "cell_type": "markdown",
      "source": [
        "![](https://d2beiqkhq929f0.cloudfront.net/public_assets/assets/000/050/169/original/Screenshot_2023-09-22_at_4.41.37_PM.png?1695381109)"
      ],
      "metadata": {
        "id": "2QlbqQjdlk7B"
      }
    },
    {
      "cell_type": "markdown",
      "source": [
        "So to solve this one idea was that instead of taking the entire dataset let's just take only one data point at random from the dataset and quickly update our parameters\n",
        "- Since we are taking just one datapoint for updation the time complexity would be **O(1)**\n",
        "\n",
        "But there is one problem with this\n",
        "- Let's say that the dataset that we have is our entire population and the point that we pick is a sample that we pick from the population\n",
        "\n",
        "Q. If we have just one sample can we approximate the population mean?\n",
        "- we will be able to find some answer but we won't be much confident if it's the right value because the number of sample is just one\n",
        "- Also do you remeber that as we increase the sample size the variance was also decreasing ie the sample mean was approaching closer and closer to the population mean\n",
        "\n",
        "There is also another problem which is for one point the direction would be towards the minima but for the next point it can take any direction and thus it would take us many iterations to reach out minimum value"
      ],
      "metadata": {
        "id": "Wp5oMn7QlgIJ"
      }
    },
    {
      "cell_type": "markdown",
      "source": [
        "![](https://d2beiqkhq929f0.cloudfront.net/public_assets/assets/000/050/172/original/Screenshot_2023-09-22_at_4.58.40_PM.png?1695382134)"
      ],
      "metadata": {
        "id": "uCXxpBfupfB-"
      }
    },
    {
      "cell_type": "markdown",
      "source": [
        "### Batch gradient descent"
      ],
      "metadata": {
        "id": "L7ASRgmL1-S0"
      }
    },
    {
      "cell_type": "markdown",
      "source": [
        "So can we take laverage this concepts that we learnt in probability and statistics here?\n",
        "\n",
        "What do we esentially want?\n",
        "1. We want to move towards the right direction ie towards the minima\n",
        "2. We want to reach minimum quickly\n",
        "\n",
        "So in vanilla gradient descent it takes too much time to update each parameter whereas in SGD we update our weight vectors very quickly but it would take many stpes some in right direction and some in wrong directions before reaching the minimum value.\n",
        "\n",
        "Also it was observerd that it is better to update the weights more oftern in comparison to increasing the intake of sample size\n",
        "- thus we want to update the weights quickly and it has more importance in the real world rather than using the entier dataste for the update step\n",
        "- but now if we are using just one data point to update the weights we are consuming lot of time\n",
        "- So the solution to this is to use k data point together when updating the weights that way we'll be getting better directions at the same time updating the weights frequently\n",
        "  - Let say if we have 100 data points in our dataset and k=10 then we'll update weights 10 times whereas if we use the SGD process then we are updating weights 100 times.\n",
        "  - This is called as **Mini-Batch gradient descent** or **Batch gradient descent**"
      ],
      "metadata": {
        "id": "b4Ol5JwxpoWZ"
      }
    },
    {
      "cell_type": "markdown",
      "source": [
        "![](https://d2beiqkhq929f0.cloudfront.net/public_assets/assets/000/050/176/original/Screenshot_2023-09-22_at_5.55.27_PM.png?1695385543)"
      ],
      "metadata": {
        "id": "AXLabHIO2nw8"
      }
    },
    {
      "cell_type": "markdown",
      "source": [
        "In the above udapte rules\n",
        "- if **k=1** then we have our stochastic greadient descent\n",
        "- if **1< k < n** then we have batch gradient descent\n",
        "- if **k=n** then we have our vainalla gradient descent\n",
        "\n",
        "\n",
        "**What is Epoch?**\n",
        "- Using our entier dataset or iterating over our entier dataset to update the weights once is called as one epoch\n",
        "  - So if we have 100 data points and if we have a batch size of 10 then we'll update our weights 10 times once this is referred to as 10 iterations\n",
        "  - once the 10 iterations are done we have esentially gone through the entire datset thus we call that as one epoch.\n",
        "  - In the next epoch we'll again go through the entire dataset with the batch size of 10\n",
        "\n",
        "Q. If we want to perform 10 epoch where the batch size is 10 and number of data poitns is 100 then how many itertions we would have?\n",
        "- 100"
      ],
      "metadata": {
        "id": "DFJMzD_f4Dwv"
      }
    },
    {
      "cell_type": "markdown",
      "source": [
        "**Accuracy vs Step number of Gradeint descent**\n",
        "\n",
        "when we plot accuracy vs step number\n",
        "- after certain number of steps the curve plateaus ie the accuracy does not improves much no matter how hard we try.\n",
        "- So this smooth curve would be for our vanilla gradient desent\n",
        "- For Mini batch SGD it'll be less smoother there will be lot of variations along the way\n",
        "- For SGD we'll have too much variance along the way compared to mini batch sgd"
      ],
      "metadata": {
        "id": "pSv4shgB68GQ"
      }
    },
    {
      "cell_type": "markdown",
      "source": [
        "![](https://d2beiqkhq929f0.cloudfront.net/public_assets/assets/000/050/182/original/Screenshot_2023-09-22_at_6.21.57_PM.png?1695387132)"
      ],
      "metadata": {
        "id": "fJ8iupsF8r6R"
      }
    },
    {
      "cell_type": "markdown",
      "source": [
        "## Dimensionality reduction\n",
        "\n",
        "\n"
      ],
      "metadata": {
        "id": "msv_vi819rxF"
      }
    },
    {
      "cell_type": "markdown",
      "source": [
        "We had written our dataset mathematically which is $D=\\{x_i,y_i: x_i \\in \\mathbb{R}^d \\}_{i=1}^n$\n",
        "- Here d is the dimension of the data point\n",
        "- We can;t visualize more then 3 dimensions\n",
        "\n",
        "Let's see what are the problem with high dimensions ie as dimensions increases\n",
        "- Visualization is tough\n",
        "- Training time increases\n",
        "  - We saw a calculation in previous classes that when we increased only one feature it would take 2 years for the computation.\n",
        "- Computation resouces requirement increases\n",
        "- If we have too many dimensions the math required to solve becomes to complex\n",
        "\n",
        "So dimensionality reduction helps us solve this problems one such algorithm that we'll study is **Principal component analysis**"
      ],
      "metadata": {
        "id": "x5xIBTkQEG79"
      }
    },
    {
      "cell_type": "markdown",
      "source": [
        "![](https://d2beiqkhq929f0.cloudfront.net/public_assets/assets/000/050/185/original/Screenshot_2023-09-22_at_7.08.18_PM.png?1695389914)"
      ],
      "metadata": {
        "id": "HmBshmL4HK5L"
      }
    },
    {
      "cell_type": "markdown",
      "source": [
        "Q. Don't you think when we say that we want to reduce the dimensions of the data esentially we'll be lossing our information of the dataset?\n",
        "- Yes\n",
        "- Thus when we'll learn about PCA we'll look at how smartly it reduces the dimensions without loosing the essence of the data\n",
        "  - here the term essesnce of the data meands that we are not loosing out much of the information present in the dataset"
      ],
      "metadata": {
        "id": "odPH_Cq1H9_M"
      }
    },
    {
      "cell_type": "markdown",
      "source": [
        "## Input Output relationship"
      ],
      "metadata": {
        "id": "u7JK68AxBBzb"
      }
    },
    {
      "cell_type": "markdown",
      "source": [
        "Let's see on a high level what does PCA does exactly\n",
        "\n",
        "Let's consider PCA as a black box model for now ie we don't know what it does internally\n",
        "- So the input to this PCA is a dataset with data points belonging to d dimensions\n",
        "- And the output would we another dataset where the datapoint belongs to d' dimensions which is different from d\n",
        "\n",
        "Q. Choose the correct option for d'\n",
        "1. d'>d\n",
        "2. d'< d\n",
        "3. d'= d\n",
        "- Correct answer is 2"
      ],
      "metadata": {
        "id": "MYwm7C4PIdq2"
      }
    },
    {
      "cell_type": "markdown",
      "source": [
        "![](https://d2beiqkhq929f0.cloudfront.net/public_assets/assets/000/050/186/original/Screenshot_2023-09-22_at_7.18.26_PM.png?1695390522)"
      ],
      "metadata": {
        "id": "UTSC0f-WJosW"
      }
    },
    {
      "cell_type": "markdown",
      "source": [
        "## Example Height vs Age"
      ],
      "metadata": {
        "id": "PUcAyqedBOEG"
      }
    },
    {
      "cell_type": "markdown",
      "source": [
        "For PCA to work perfectly there is a condition that it needs to be satisfied let's understand what that condition is\n",
        "\n",
        "Let's see we have a plot of height vs age\n",
        "- when we are babies we have a lesser height and as we grow our height incerase upto a certain age after that our height stops increasing\n",
        "\n",
        "Q. If were to find out pearson coorrealtion value would it be a big value or a low value?\n",
        "- There isin't a string correlation between height and age because it is a non linear function\n",
        "- So in such cases dimensionaloity reduction is not possible without losing the essence of data.\n",
        "- There should be strong correalation between the 2 variables for dimensionality reduction to work\n"
      ],
      "metadata": {
        "id": "fpW_13y8K9VP"
      }
    },
    {
      "cell_type": "markdown",
      "source": [
        "![](https://d2beiqkhq929f0.cloudfront.net/public_assets/assets/000/050/188/original/Screenshot_2023-09-22_at_7.34.44_PM.png?1695391502)"
      ],
      "metadata": {
        "id": "hoLfSBK_M6_V"
      }
    },
    {
      "cell_type": "markdown",
      "source": [
        "Dimensionaloty reduction works well when we have strong correlation as shown below for height vs weight plot\n",
        "- here height and weight are linealry correlated with each other"
      ],
      "metadata": {
        "id": "U4iSAhqsNnRS"
      }
    },
    {
      "cell_type": "markdown",
      "source": [
        "![](https://d2beiqkhq929f0.cloudfront.net/public_assets/assets/000/050/189/original/Screenshot_2023-09-22_at_7.40.19_PM.png?1695391844)"
      ],
      "metadata": {
        "id": "l5ERLGqYOfvo"
      }
    },
    {
      "cell_type": "markdown",
      "source": [
        "## Visual understanding of PCA"
      ],
      "metadata": {
        "id": "jFb1io2LBkuU"
      }
    },
    {
      "cell_type": "markdown",
      "source": [
        "Now let's learn the interals of what a PCA does\n",
        "- First is we'll shift the origin to the mean values of the dataset ie we'll find out what the mean height and mean weight and we can represent this mean point as $\\bar{m}$"
      ],
      "metadata": {
        "id": "M97_qZNzBgfk"
      }
    },
    {
      "cell_type": "markdown",
      "source": [
        "Q. How do we shift the origin to the mean point $\\bar{m}$\n",
        "- We subtract each of our points in the dataset with the mean point that way the original mean points cancel out and we'll get a new origin which sits at the mean point $\\bar{m}$"
      ],
      "metadata": {
        "id": "2KDXmaqTOwxU"
      }
    },
    {
      "cell_type": "markdown",
      "source": [
        "![](https://d2beiqkhq929f0.cloudfront.net/public_assets/assets/000/050/190/original/Screenshot_2023-09-22_at_7.43.13_PM.png?1695392009)"
      ],
      "metadata": {
        "id": "xOF5R7zPPTR4"
      }
    },
    {
      "cell_type": "markdown",
      "source": [
        "We can now create a norm vector which is perpendicular to our Red line\n",
        "\n",
        "Next what we want to do is we want to rotate our original axis such that they align with the red line."
      ],
      "metadata": {
        "id": "UwR3y-skPcIY"
      }
    },
    {
      "cell_type": "markdown",
      "source": [
        "![](https://d2beiqkhq929f0.cloudfront.net/public_assets/assets/000/050/191/original/Screenshot_2023-09-22_at_7.48.43_PM.png?1695392340)"
      ],
      "metadata": {
        "id": "8iap4OeNQa9I"
      }
    },
    {
      "cell_type": "markdown",
      "source": [
        "We'll get something like as shown below"
      ],
      "metadata": {
        "id": "cMyYF1HfQlXd"
      }
    },
    {
      "cell_type": "markdown",
      "source": [
        "![](https://d2beiqkhq929f0.cloudfront.net/public_assets/assets/000/050/194/original/Screenshot_2023-09-22_at_7.49.30_PM.png?1695392386)"
      ],
      "metadata": {
        "id": "HIEO6UiYQxKz"
      }
    },
    {
      "cell_type": "markdown",
      "source": [
        "Let's call this new axis as $x_{new}$ and $y_{new}$\n",
        "\n",
        "Next let's just focus on the green points and the new axis where do you think most of the information lies ?\n",
        "- x axis, that is because let's say that the points to the left of the vertical black lines are peoples who had less height and less weight\n",
        "- and points to the right of the vertical black lines are peoples who had more height and more weight\n",
        "- so if we project them onto the x we'll still be able to differentiate between this 2 groups\n",
        "- whereas if we were to project them onto the new y axis it would be very hard to differentiate between these 2 groups\n",
        "- Mathematically we want to check what is the variance along the x axis and variance along the y axis\n",
        "  - And we want to select that axis which has the maximum variance\n",
        "- Thus we can achieve dimensionality reduction by forgetting the y axis"
      ],
      "metadata": {
        "id": "z3swf50-Q1UZ"
      }
    },
    {
      "cell_type": "markdown",
      "source": [
        "![](https://d2beiqkhq929f0.cloudfront.net/public_assets/assets/000/050/197/original/Screenshot_2023-09-22_at_8.04.09_PM.png?1695393265)"
      ],
      "metadata": {
        "id": "t6QKX007UFqw"
      }
    },
    {
      "cell_type": "markdown",
      "source": [
        "![](https://d2beiqkhq929f0.cloudfront.net/public_assets/assets/000/050/219/original/Screenshot_2023-09-22_at_11.25.36_PM.png?1695405349)"
      ],
      "metadata": {
        "id": "EVZ6SdRwCLaa"
      }
    },
    {
      "cell_type": "markdown",
      "source": [
        "When we have 2 varaibles which are not strongly correlated then in that case the variances across the 2 new axis will come out to be similar hence we won't be able to choose the axis that preserves maximum information hence PCA algorithm does not work very well in this case"
      ],
      "metadata": {
        "id": "hMYmIG9JDYy5"
      }
    },
    {
      "cell_type": "markdown",
      "source": [
        "![](https://d2beiqkhq929f0.cloudfront.net/public_assets/assets/000/050/220/original/Screenshot_2023-09-22_at_11.35.03_PM.png?1695405920)"
      ],
      "metadata": {
        "id": "4XyBw3N-EflQ"
      }
    },
    {
      "cell_type": "markdown",
      "source": [
        "## Implementing PCA"
      ],
      "metadata": {
        "id": "JzfJwwTTE8Aa"
      }
    },
    {
      "cell_type": "markdown",
      "source": [
        "**Step1: Column standardization**\n",
        "- For every column or feature we subtract the data point value from the mean of that feature and divide it by the standard deviation of that feature and we do this for all the feature present in the dataset"
      ],
      "metadata": {
        "id": "2wp4qN4OE-7l"
      }
    },
    {
      "cell_type": "markdown",
      "source": [
        "![](https://d2beiqkhq929f0.cloudfront.net/public_assets/assets/000/050/222/original/Screenshot_2023-09-22_at_11.42.57_PM.png?1695406572)"
      ],
      "metadata": {
        "id": "wL4gXl-MGA-1"
      }
    },
    {
      "cell_type": "markdown",
      "source": [
        "**Step2**\n",
        "- Now when we were looking at projecting the data points onto the new axis esentially we were looking for a vector u on which we can project all the data points and wherever that is maximum we'll consider that\n",
        "- Thus this step is about finding a vector $\\bar{u}\\space$ such that the vairance of $\\bar{x}$ (our original datapoints) along the vector $\\bar{u}\\space$ is maximized\n",
        "\n",
        "Q. How do we find the projection of a vector $\\bar{x_i}$ onto new vector $\\bar{u}$?\n",
        "- By performing the dot product between the $\\bar{x_i}$ and $\\bar{u}$ and dividing it by the norm of the $\\bar{u}$\n",
        "- $\\frac{\\bar{x_i}\\bar{u}}{\\left||u\\right||}$ or we can also write as $x_i.\\hat{u} $\n",
        "- So after projecting on the new vector we'll be getting the distance of that point from the mean point or the new origin that we shifted to the mean point\n",
        "\n",
        "Q. Next we want to find the variance along the new axis how can we do that?let's denote the new projected points as $x'$\n",
        "thus $x'=\\frac{\\bar{x_i}\\bar{u}}{\\left||u\\right||}$\n",
        "- Formula for variance is Var=$\\frac{1}{n}\\sum{(x_i-\\mu)}^2$\n",
        "- here $x_i$ is $x'$ thus our formula will become\n",
        "  - Var=$\\frac{1}{n}\\sum{(\\frac{\\bar{x_i}\\bar{u}}{\\left||u\\right||}-\\mu)}^2$\n",
        "- But do you agree that $\\mu$ would be 0 because we have shifted our origin to the mean point and this is called as standardizing the data"
      ],
      "metadata": {
        "id": "KiT79CtiHClG"
      }
    },
    {
      "cell_type": "markdown",
      "source": [
        "![](https://d2beiqkhq929f0.cloudfront.net/public_assets/assets/000/050/223/original/Screenshot_2023-09-23_at_12.08.46_AM.png?1695407942)"
      ],
      "metadata": {
        "id": "d7ye82E-ME9d"
      }
    },
    {
      "cell_type": "markdown",
      "source": [
        "Now we convert this into a constraint problem and then using lagrange multipler to convert that into an unconstraint problem\n",
        "\n",
        "Note: that if $\\left||u\\right||=1$ then $\\left||u\\right||^2=1$"
      ],
      "metadata": {
        "id": "aTltJYUbMv5R"
      }
    },
    {
      "cell_type": "markdown",
      "source": [
        "![](https://d2beiqkhq929f0.cloudfront.net/public_assets/assets/000/050/224/original/Screenshot_2023-09-23_at_12.13.28_AM.png?1695408222)"
      ],
      "metadata": {
        "id": "A9l6NrLzNI_A"
      }
    },
    {
      "cell_type": "markdown",
      "source": [
        "Now we can either solve this optimization problem using gradient ascent or we have a mathematical approach to solve this optimization problem as it is more efficient"
      ],
      "metadata": {
        "id": "LieTlHifQY16"
      }
    },
    {
      "cell_type": "markdown",
      "source": [
        "## Mathematical approach of optimising PCA"
      ],
      "metadata": {
        "id": "F-aQM2MWikA8"
      }
    },
    {
      "cell_type": "markdown",
      "source": [
        "Let's learn about the mathematical approach\n",
        "- First thing is to change how we are looking at $(\\bar{x}^T\\bar{u})^2$\n",
        "- We have our dataset D where $x_i$ belongs to a D dim space and we have n data points\n",
        "- Thus we'll represent each row of our dataset as a row vector ie for $i^{th}$ data point it'll be $x_i^T$ we'll represent this dataset a matrix of dimension $n*d$ and this matrix is called as a **data matrix** and let's call this as X\n",
        "- Next we'll take our data matrix and multiply it with our vector u which is a column vector\n",
        "  - Note that $\\bar{u}$ is a d dimensional\n",
        "- So when we multiply X with u matrix the resultant matrix that would have a shape of $n*1$, let's call this as vector $v$\n",
        "  - First row entry in the new vector $v$ would be nothing but the dot product between first row of X matrix and the u vector.\n",
        "  - Now when we compute the norm of the $v$ vector we'll esentially be computing  $\\sum_{i=1}^n(\\bar{x}^T\\bar{u})^2$ which is the first term of our optimization problem"
      ],
      "metadata": {
        "id": "xFretECfQjPV"
      }
    },
    {
      "cell_type": "markdown",
      "source": [
        "![](https://d2beiqkhq929f0.cloudfront.net/public_assets/assets/000/050/278/original/Screenshot_2023-09-23_at_8.25.05_PM.png?1695480922)"
      ],
      "metadata": {
        "id": "l-33-LShieNT"
      }
    },
    {
      "cell_type": "markdown",
      "source": [
        "Let's redefine our Optimization problem in terms of $X.\\bar{u}$\n",
        "- Our new optimziation problem is\n",
        "  - $\\bar{u}^*=argmax_{\\bar{u}}\\frac{1}{n}(\\bar{v}^T\\bar{v})+\\lambda (\\left||u\\right||^2-1)$\n",
        "    - Here we have represented $\\left||v\\right||^2$ as $\\bar{v}^T\\bar{v}$ it means the same thing\n",
        "  - If we simply $\\bar{v}^T\\bar{v}$ in terms of $X$ and $\\bar{u}$ then\n",
        "    - $\\bar{v}^T\\bar{v}=(X\\bar{u})^T.X\\bar{u}$\n",
        "    - We can rewrite this as $\\bar{v}^T\\bar{v}=\\bar{u}^TX^T.X\\bar{u}$"
      ],
      "metadata": {
        "id": "k9U64VTwi4zF"
      }
    },
    {
      "cell_type": "markdown",
      "source": [
        "![](https://d2beiqkhq929f0.cloudfront.net/public_assets/assets/000/050/283/original/Screenshot_2023-09-23_at_9.00.18_PM.png?1695483030)"
      ],
      "metadata": {
        "id": "xg8fRt2plDET"
      }
    },
    {
      "cell_type": "markdown",
      "source": [
        "Why did we do all of this?\n",
        "- So that computing gradients becomes easier\n",
        "\n",
        "Gradient of the function $f(\\bar{u})=u^TSu\\space$ where S is any matrix then $\\nabla_{\\bar{u}}f(\\bar{u})=(S+S^T)\\bar{u}$\n",
        "- we can also write this as $\\nabla_{\\bar{u}}f(\\bar{u})=\\bar{u}^T(S+S^T)$\n",
        "- Note that we are taking this as a fact and not looking at the proof of this as proving this will consume a lot of time."
      ],
      "metadata": {
        "id": "SoWTPXMAlQ5T"
      }
    },
    {
      "cell_type": "markdown",
      "source": [
        "![](https://d2beiqkhq929f0.cloudfront.net/public_assets/assets/000/050/281/original/Screenshot_2023-09-23_at_8.44.57_PM.png?1695482111)"
      ],
      "metadata": {
        "id": "zggHs77emv98"
      }
    },
    {
      "cell_type": "markdown",
      "source": [
        "Now we can call the entier equation after the $argmax$ as $f(\\bar{u})=\\frac{1}{n}\\bar{u}^TX^TX\\bar{u}+\\lambda(\\left||\\bar{u}\\right||-1)$\n",
        "- We can represent $\\left||\\bar{u}\\right||^2$ as $\\bar{u}^T\\bar{u}$\n",
        "- So here $X^TX$ would be our matrix S from fact 1\n",
        "- So using Fact1 let's compute the gradient of $f(\\bar{u})$ would be\n",
        "  - $\\nabla_{\\bar{u}}f(\\bar{u})=\\frac{1}{n}((X^TX)+(X^TX)^T)\\bar{u}+\\lambda (2\\bar{u})$\n",
        "- Now (A.B)^T is equal to A^T.B^T using this we can rewrite $(X^TX)^T$ as $X^TX$\n",
        "- Thus the final equation becomes $\\nabla_{\\bar{u}}f(\\bar{u})=\\frac{2}{n}(X^TX)\\bar{u}+\\lambda (2\\bar{u})$\n"
      ],
      "metadata": {
        "id": "deiuF4YjnArn"
      }
    },
    {
      "cell_type": "markdown",
      "source": [
        "![](https://d2beiqkhq929f0.cloudfront.net/public_assets/assets/000/050/284/original/Screenshot_2023-09-23_at_9.03.24_PM.png?1695483220)"
      ],
      "metadata": {
        "id": "GDm4gfNhrEDn"
      }
    },
    {
      "cell_type": "markdown",
      "source": [
        "So our gradient equation is\n",
        "- $\\nabla_{\\bar{u}}f(\\bar{u})=2(\\frac{1}{n}X^TX\\bar{u}+\\lambda\\bar{u})$\n",
        "- to find the minima or maxima we'll equation the greaident to 0\n",
        "- Thus $2(\\frac{1}{n}X^TX\\bar{u}+\\lambda\\bar{u})=0$\n",
        "  - Here 2 will go on the other side cancel out and shifting $\\lambda \\bar{u}$ and $n$ to other side our equation will be\n",
        "    -  $X^TX\\bar{u}=-n\\lambda\\bar{u}$\n",
        "  - We can represet $-n\\lambda$ as $\\lambda'$\n",
        "    - $(X^TX)\\bar{u}=\\lambda'\\bar{u}$\n",
        "  - This equation represents the eigen value eigen vector expression\n",
        "\n",
        "So this equation tells us that the vector $\\bar{u}$ which maximizes $f(\\bar{u})$ is the one which satisfies equation 1"
      ],
      "metadata": {
        "id": "hxMkmB9wrPuf"
      }
    },
    {
      "cell_type": "markdown",
      "source": [
        "![](https://d2beiqkhq929f0.cloudfront.net/public_assets/assets/000/050/289/original/Screenshot_2023-09-23_at_9.20.02_PM.png?1695484219)"
      ],
      "metadata": {
        "id": "dtjuGwBfu5-Q"
      }
    },
    {
      "cell_type": "markdown",
      "source": [
        "By observing equation 1 we notice that $\\bar{u}$ is nothing but eigen vector of the matrix $X^TX$"
      ],
      "metadata": {
        "id": "8Rvu-N7ZvbZE"
      }
    },
    {
      "cell_type": "markdown",
      "source": [
        "## What is eigen vector"
      ],
      "metadata": {
        "id": "9vpWP_czwDJo"
      }
    },
    {
      "cell_type": "markdown",
      "source": [
        "For any square matrix S if we find an $\\bar{x}$ such that $S\\bar{x}=\\lambda\\bar{x}$ then $\\bar{x}$ is said to be an **eigen vector**\n",
        "- Here square matrix means number of rows equals number of columns\n",
        "- Word eigen comes from the german word same or identity"
      ],
      "metadata": {
        "id": "apj6AuhQwHNP"
      }
    },
    {
      "cell_type": "markdown",
      "source": [
        "![](https://d2beiqkhq929f0.cloudfront.net/public_assets/assets/000/050/292/original/Screenshot_2023-09-23_at_10.01.35_PM.png?1695486712)"
      ],
      "metadata": {
        "id": "Qn9sawOR4jw_"
      }
    },
    {
      "cell_type": "markdown",
      "source": [
        "Let's say in our 2D space we have a vector $\\bar{x}$ and we multiply it with a square matrix S which is of size $d*d$ the result is another  vector $\\bar{v}$ of size $d*1$\n",
        "- $\\bar{v}=S.\\bar{x}$\n",
        "- If $S.\\bar{x}=\\lambda.\\bar{x}$ where $\\lambda$ is a number then $\\bar{v}=\\lambda.\\bar{x}$\n",
        "- which means that the direction of $\\bar{v}$ will be same as $\\bar{x}$ thus $\\bar{x}$ is a eigen vector because when we take vector x and multiply it with a matrix s the new vector still points in the same direction as the vector x\n",
        "- Eigen vectors are the property of the matrix S where when we multiply a matrix with a vector if the direction remains the same and the magnitude of the resultant vector changes then the vector that we multiply with the matrix is the eigne vector"
      ],
      "metadata": {
        "id": "ADNDv52N4nNy"
      }
    },
    {
      "cell_type": "markdown",
      "source": [
        "![](https://d2beiqkhq929f0.cloudfront.net/public_assets/assets/000/050/293/original/Screenshot_2023-09-23_at_10.20.22_PM.png?1695487836)"
      ],
      "metadata": {
        "id": "q4Wd1W888r7y"
      }
    },
    {
      "cell_type": "markdown",
      "source": [
        "Why did we started this whole thing?\n",
        "- the problem that we wanted to solve was that we wanted to find a vector $\\bar{u}$ such that the variance along the $\\bar{x}$ is maximized\n",
        "- So by doing all this math we have proven that this vector $\\bar{u}$ is nothing but the eigen vector\n",
        "\n",
        "So to solve the problem of finding a vector $\\bar{u}$ such that the variance is maximized we'll first have to find an eigen vector\n",
        "- To find this we'll use numpy we have a function which gives us eigen vectors for a given matrix\n",
        "\n",
        "Now each matrix has many eigen vectors and each eigen vector has an associated eigen value so we pick that eigen vector corresponding to the maximum eigen value for our $\\bar{u}$\n",
        "\n",
        "So onces we have the eigen values and the eigen vecrtor of the matrix we simply have to sort the eigen values in descending order and select the eigen vector with the highest eigen value."
      ],
      "metadata": {
        "id": "z_hGPeBo9Cpa"
      }
    },
    {
      "cell_type": "markdown",
      "source": [
        "![](https://d2beiqkhq929f0.cloudfront.net/public_assets/assets/000/050/294/original/Screenshot_2023-09-23_at_10.31.40_PM.png?1695488516)"
      ],
      "metadata": {
        "id": "U_kGdO2S_R8t"
      }
    },
    {
      "cell_type": "markdown",
      "source": [
        "We got our vector $\\bar{u}$ which maximizes our variance now how to find other directions?\n",
        "- So if we want to reduce the dimensions from d to d' we simply pick the first d' eigen vector with the largest corresponding eigen value\n",
        "- So let's say we have a 3*3 matrix it'll have $(x_1, \\lambda_1)$,$(x_2, \\lambda_2)$, $(x_3, \\lambda_3)$\n",
        "  - Because for any square matrix the maximum number of eigen vector will be equal to the dimension of the matrix\n",
        "  - Here $x_1,x_2,x_3$ are eigen vectors and $\\lambda_1,\\lambda_2,\\lambda_3$ are eigen values\n",
        "- So we'll arrange this eigen values in descending order and let say that we want to reduce it to 2 dimensions so we'll pick 2 eigen vector $x_1$ and $x_2$\n",
        "- And we'll use this as our new axis on which we'll project our points to find the new coordinates of the points.\n"
      ],
      "metadata": {
        "id": "qGM1AXoPAEAR"
      }
    },
    {
      "cell_type": "markdown",
      "source": [
        "![](https://d2beiqkhq929f0.cloudfront.net/public_assets/assets/000/050/295/original/Screenshot_2023-09-23_at_10.46.25_PM.png?1695489397)"
      ],
      "metadata": {
        "id": "b1rv4xLrAD7i"
      }
    },
    {
      "cell_type": "markdown",
      "source": [
        "Next let's see how to project the old points which are present in d dimensional space to d' dimsionsal space\n",
        "- we'll compute the projection of each data point along the new axis ie vectors $\\bar{u}\\in d'$ ie $\\bar{u_1}$, $\\bar{u_2}$...$\\bar{u_d}'$ where vector\n",
        "\n",
        "The last thing that we want to compute is how much of information have we captured or retained from the original dataset present in d dimension\n",
        "- to do that $\\frac{\\lambda_1+\\lambda_2+..\\lambda_d'}{\\sum_{i=1}^d\\lambda_i}$\n",
        "- So based on the previous example where we saw that we were picking 2 eigen vector with eigen values of 0.5 and 0.3 then that means that 80% of information we have retained and 20% of it was lost when we transformed from 3D to 2D\n",
        "- Thus to choose the d' we'll always look at what percentage of information lost or retained is acceptable based on that we'll take that many eigen vector such that the information retained is within the acceptable value"
      ],
      "metadata": {
        "id": "KqUEwjOPDDkM"
      }
    },
    {
      "cell_type": "markdown",
      "source": [
        "![](https://d2beiqkhq929f0.cloudfront.net/public_assets/assets/000/050/296/original/Screenshot_2023-09-23_at_11.01.29_PM.png?1695490305)"
      ],
      "metadata": {
        "id": "gxm3WEBkEajF"
      }
    },
    {
      "cell_type": "markdown",
      "source": [
        "## PCA coding implementation"
      ],
      "metadata": {
        "id": "YNr-mzlQGS7U"
      }
    },
    {
      "cell_type": "code",
      "execution_count": null,
      "metadata": {
        "id": "jS4FZnZubSA0"
      },
      "outputs": [],
      "source": [
        "import numpy as np\n",
        "import pandas as pd\n",
        "from matplotlib import pyplot as plt"
      ]
    },
    {
      "cell_type": "code",
      "source": [
        "!gdown 16elpyaPZhS63ibzIdetEjZhCO4FpVSZu"
      ],
      "metadata": {
        "colab": {
          "base_uri": "https://localhost:8080/"
        },
        "id": "lVAQjyA7b_mn",
        "outputId": "e944c976-df92-44a4-819a-d1798dfb27c9"
      },
      "execution_count": null,
      "outputs": [
        {
          "output_type": "stream",
          "name": "stdout",
          "text": [
            "Downloading...\n",
            "From: https://drive.google.com/uc?id=16elpyaPZhS63ibzIdetEjZhCO4FpVSZu\n",
            "To: /content/pca_2d_data.csv\n",
            "\r  0% 0.00/778 [00:00<?, ?B/s]\r100% 778/778 [00:00<00:00, 2.28MB/s]\n"
          ]
        }
      ]
    },
    {
      "cell_type": "code",
      "source": [
        "data = pd.read_csv('/content/pca_2d_data.csv')\n",
        "data.head()"
      ],
      "metadata": {
        "colab": {
          "base_uri": "https://localhost:8080/",
          "height": 206
        },
        "id": "qvXiP0DWcHYL",
        "outputId": "908a952a-6406-4df5-928b-f75ccecbcbb9"
      },
      "execution_count": null,
      "outputs": [
        {
          "output_type": "execute_result",
          "data": {
            "text/plain": [
              "         f1        f2\n",
              "0  2.038772  1.102760\n",
              "1  0.869536  0.238030\n",
              "2  1.795888  1.020364\n",
              "3  0.103510 -0.513661\n",
              "4  1.479554  0.750702"
            ],
            "text/html": [
              "\n",
              "  <div id=\"df-b8f2f7d7-5453-4590-be61-8d77182ebf1f\" class=\"colab-df-container\">\n",
              "    <div>\n",
              "<style scoped>\n",
              "    .dataframe tbody tr th:only-of-type {\n",
              "        vertical-align: middle;\n",
              "    }\n",
              "\n",
              "    .dataframe tbody tr th {\n",
              "        vertical-align: top;\n",
              "    }\n",
              "\n",
              "    .dataframe thead th {\n",
              "        text-align: right;\n",
              "    }\n",
              "</style>\n",
              "<table border=\"1\" class=\"dataframe\">\n",
              "  <thead>\n",
              "    <tr style=\"text-align: right;\">\n",
              "      <th></th>\n",
              "      <th>f1</th>\n",
              "      <th>f2</th>\n",
              "    </tr>\n",
              "  </thead>\n",
              "  <tbody>\n",
              "    <tr>\n",
              "      <th>0</th>\n",
              "      <td>2.038772</td>\n",
              "      <td>1.102760</td>\n",
              "    </tr>\n",
              "    <tr>\n",
              "      <th>1</th>\n",
              "      <td>0.869536</td>\n",
              "      <td>0.238030</td>\n",
              "    </tr>\n",
              "    <tr>\n",
              "      <th>2</th>\n",
              "      <td>1.795888</td>\n",
              "      <td>1.020364</td>\n",
              "    </tr>\n",
              "    <tr>\n",
              "      <th>3</th>\n",
              "      <td>0.103510</td>\n",
              "      <td>-0.513661</td>\n",
              "    </tr>\n",
              "    <tr>\n",
              "      <th>4</th>\n",
              "      <td>1.479554</td>\n",
              "      <td>0.750702</td>\n",
              "    </tr>\n",
              "  </tbody>\n",
              "</table>\n",
              "</div>\n",
              "    <div class=\"colab-df-buttons\">\n",
              "\n",
              "  <div class=\"colab-df-container\">\n",
              "    <button class=\"colab-df-convert\" onclick=\"convertToInteractive('df-b8f2f7d7-5453-4590-be61-8d77182ebf1f')\"\n",
              "            title=\"Convert this dataframe to an interactive table.\"\n",
              "            style=\"display:none;\">\n",
              "\n",
              "  <svg xmlns=\"http://www.w3.org/2000/svg\" height=\"24px\" viewBox=\"0 -960 960 960\">\n",
              "    <path d=\"M120-120v-720h720v720H120Zm60-500h600v-160H180v160Zm220 220h160v-160H400v160Zm0 220h160v-160H400v160ZM180-400h160v-160H180v160Zm440 0h160v-160H620v160ZM180-180h160v-160H180v160Zm440 0h160v-160H620v160Z\"/>\n",
              "  </svg>\n",
              "    </button>\n",
              "\n",
              "  <style>\n",
              "    .colab-df-container {\n",
              "      display:flex;\n",
              "      gap: 12px;\n",
              "    }\n",
              "\n",
              "    .colab-df-convert {\n",
              "      background-color: #E8F0FE;\n",
              "      border: none;\n",
              "      border-radius: 50%;\n",
              "      cursor: pointer;\n",
              "      display: none;\n",
              "      fill: #1967D2;\n",
              "      height: 32px;\n",
              "      padding: 0 0 0 0;\n",
              "      width: 32px;\n",
              "    }\n",
              "\n",
              "    .colab-df-convert:hover {\n",
              "      background-color: #E2EBFA;\n",
              "      box-shadow: 0px 1px 2px rgba(60, 64, 67, 0.3), 0px 1px 3px 1px rgba(60, 64, 67, 0.15);\n",
              "      fill: #174EA6;\n",
              "    }\n",
              "\n",
              "    .colab-df-buttons div {\n",
              "      margin-bottom: 4px;\n",
              "    }\n",
              "\n",
              "    [theme=dark] .colab-df-convert {\n",
              "      background-color: #3B4455;\n",
              "      fill: #D2E3FC;\n",
              "    }\n",
              "\n",
              "    [theme=dark] .colab-df-convert:hover {\n",
              "      background-color: #434B5C;\n",
              "      box-shadow: 0px 1px 3px 1px rgba(0, 0, 0, 0.15);\n",
              "      filter: drop-shadow(0px 1px 2px rgba(0, 0, 0, 0.3));\n",
              "      fill: #FFFFFF;\n",
              "    }\n",
              "  </style>\n",
              "\n",
              "    <script>\n",
              "      const buttonEl =\n",
              "        document.querySelector('#df-b8f2f7d7-5453-4590-be61-8d77182ebf1f button.colab-df-convert');\n",
              "      buttonEl.style.display =\n",
              "        google.colab.kernel.accessAllowed ? 'block' : 'none';\n",
              "\n",
              "      async function convertToInteractive(key) {\n",
              "        const element = document.querySelector('#df-b8f2f7d7-5453-4590-be61-8d77182ebf1f');\n",
              "        const dataTable =\n",
              "          await google.colab.kernel.invokeFunction('convertToInteractive',\n",
              "                                                    [key], {});\n",
              "        if (!dataTable) return;\n",
              "\n",
              "        const docLinkHtml = 'Like what you see? Visit the ' +\n",
              "          '<a target=\"_blank\" href=https://colab.research.google.com/notebooks/data_table.ipynb>data table notebook</a>'\n",
              "          + ' to learn more about interactive tables.';\n",
              "        element.innerHTML = '';\n",
              "        dataTable['output_type'] = 'display_data';\n",
              "        await google.colab.output.renderOutput(dataTable, element);\n",
              "        const docLink = document.createElement('div');\n",
              "        docLink.innerHTML = docLinkHtml;\n",
              "        element.appendChild(docLink);\n",
              "      }\n",
              "    </script>\n",
              "  </div>\n",
              "\n",
              "\n",
              "<div id=\"df-fdb20017-18e5-446c-9dfe-f9d7b435babe\">\n",
              "  <button class=\"colab-df-quickchart\" onclick=\"quickchart('df-fdb20017-18e5-446c-9dfe-f9d7b435babe')\"\n",
              "            title=\"Suggest charts\"\n",
              "            style=\"display:none;\">\n",
              "\n",
              "<svg xmlns=\"http://www.w3.org/2000/svg\" height=\"24px\"viewBox=\"0 0 24 24\"\n",
              "     width=\"24px\">\n",
              "    <g>\n",
              "        <path d=\"M19 3H5c-1.1 0-2 .9-2 2v14c0 1.1.9 2 2 2h14c1.1 0 2-.9 2-2V5c0-1.1-.9-2-2-2zM9 17H7v-7h2v7zm4 0h-2V7h2v10zm4 0h-2v-4h2v4z\"/>\n",
              "    </g>\n",
              "</svg>\n",
              "  </button>\n",
              "\n",
              "<style>\n",
              "  .colab-df-quickchart {\n",
              "      --bg-color: #E8F0FE;\n",
              "      --fill-color: #1967D2;\n",
              "      --hover-bg-color: #E2EBFA;\n",
              "      --hover-fill-color: #174EA6;\n",
              "      --disabled-fill-color: #AAA;\n",
              "      --disabled-bg-color: #DDD;\n",
              "  }\n",
              "\n",
              "  [theme=dark] .colab-df-quickchart {\n",
              "      --bg-color: #3B4455;\n",
              "      --fill-color: #D2E3FC;\n",
              "      --hover-bg-color: #434B5C;\n",
              "      --hover-fill-color: #FFFFFF;\n",
              "      --disabled-bg-color: #3B4455;\n",
              "      --disabled-fill-color: #666;\n",
              "  }\n",
              "\n",
              "  .colab-df-quickchart {\n",
              "    background-color: var(--bg-color);\n",
              "    border: none;\n",
              "    border-radius: 50%;\n",
              "    cursor: pointer;\n",
              "    display: none;\n",
              "    fill: var(--fill-color);\n",
              "    height: 32px;\n",
              "    padding: 0;\n",
              "    width: 32px;\n",
              "  }\n",
              "\n",
              "  .colab-df-quickchart:hover {\n",
              "    background-color: var(--hover-bg-color);\n",
              "    box-shadow: 0 1px 2px rgba(60, 64, 67, 0.3), 0 1px 3px 1px rgba(60, 64, 67, 0.15);\n",
              "    fill: var(--button-hover-fill-color);\n",
              "  }\n",
              "\n",
              "  .colab-df-quickchart-complete:disabled,\n",
              "  .colab-df-quickchart-complete:disabled:hover {\n",
              "    background-color: var(--disabled-bg-color);\n",
              "    fill: var(--disabled-fill-color);\n",
              "    box-shadow: none;\n",
              "  }\n",
              "\n",
              "  .colab-df-spinner {\n",
              "    border: 2px solid var(--fill-color);\n",
              "    border-color: transparent;\n",
              "    border-bottom-color: var(--fill-color);\n",
              "    animation:\n",
              "      spin 1s steps(1) infinite;\n",
              "  }\n",
              "\n",
              "  @keyframes spin {\n",
              "    0% {\n",
              "      border-color: transparent;\n",
              "      border-bottom-color: var(--fill-color);\n",
              "      border-left-color: var(--fill-color);\n",
              "    }\n",
              "    20% {\n",
              "      border-color: transparent;\n",
              "      border-left-color: var(--fill-color);\n",
              "      border-top-color: var(--fill-color);\n",
              "    }\n",
              "    30% {\n",
              "      border-color: transparent;\n",
              "      border-left-color: var(--fill-color);\n",
              "      border-top-color: var(--fill-color);\n",
              "      border-right-color: var(--fill-color);\n",
              "    }\n",
              "    40% {\n",
              "      border-color: transparent;\n",
              "      border-right-color: var(--fill-color);\n",
              "      border-top-color: var(--fill-color);\n",
              "    }\n",
              "    60% {\n",
              "      border-color: transparent;\n",
              "      border-right-color: var(--fill-color);\n",
              "    }\n",
              "    80% {\n",
              "      border-color: transparent;\n",
              "      border-right-color: var(--fill-color);\n",
              "      border-bottom-color: var(--fill-color);\n",
              "    }\n",
              "    90% {\n",
              "      border-color: transparent;\n",
              "      border-bottom-color: var(--fill-color);\n",
              "    }\n",
              "  }\n",
              "</style>\n",
              "\n",
              "  <script>\n",
              "    async function quickchart(key) {\n",
              "      const quickchartButtonEl =\n",
              "        document.querySelector('#' + key + ' button');\n",
              "      quickchartButtonEl.disabled = true;  // To prevent multiple clicks.\n",
              "      quickchartButtonEl.classList.add('colab-df-spinner');\n",
              "      try {\n",
              "        const charts = await google.colab.kernel.invokeFunction(\n",
              "            'suggestCharts', [key], {});\n",
              "      } catch (error) {\n",
              "        console.error('Error during call to suggestCharts:', error);\n",
              "      }\n",
              "      quickchartButtonEl.classList.remove('colab-df-spinner');\n",
              "      quickchartButtonEl.classList.add('colab-df-quickchart-complete');\n",
              "    }\n",
              "    (() => {\n",
              "      let quickchartButtonEl =\n",
              "        document.querySelector('#df-fdb20017-18e5-446c-9dfe-f9d7b435babe button');\n",
              "      quickchartButtonEl.style.display =\n",
              "        google.colab.kernel.accessAllowed ? 'block' : 'none';\n",
              "    })();\n",
              "  </script>\n",
              "</div>\n",
              "    </div>\n",
              "  </div>\n"
            ]
          },
          "metadata": {},
          "execution_count": 4
        }
      ]
    },
    {
      "cell_type": "code",
      "source": [
        "data.plot(x='f1', y='f2', kind='scatter')\n",
        "plt.show()"
      ],
      "metadata": {
        "colab": {
          "base_uri": "https://localhost:8080/",
          "height": 449
        },
        "id": "8JGr5P9BcIcC",
        "outputId": "0a8272dd-2315-4f67-b7df-50f8d97b7241"
      },
      "execution_count": null,
      "outputs": [
        {
          "output_type": "display_data",
          "data": {
            "text/plain": [
              "<Figure size 640x480 with 1 Axes>"
            ],
            "image/png": "[encoded data removed]"
          },
          "metadata": {}
        }
      ]
    },
    {
      "cell_type": "code",
      "execution_count": null,
      "metadata": {
        "id": "Xn4YXGDW_Z83",
        "outputId": "47c6e3ce-fce5-4b76-a8c0-744546199b1c",
        "colab": {
          "base_uri": "https://localhost:8080/",
          "height": 448
        }
      },
      "outputs": [
        {
          "output_type": "stream",
          "name": "stdout",
          "text": [
            "[37.85422556  0.14577444]\n"
          ]
        },
        {
          "output_type": "display_data",
          "data": {
            "text/plain": [
              "<Figure size 640x480 with 1 Axes>"
            ],
            "image/png": "[encoded data removed]"
          },
          "metadata": {}
        }
      ],
      "source": [
        "## Implement PCA!!\n",
        "# Step 1: Column standardization\n",
        "\n",
        "mu = data.mean(axis = 0)\n",
        "\n",
        "std = data.std(axis = 0)\n",
        "\n",
        "X_st = (data - mu)/std\n",
        "\n",
        "# Step 2: Eigenvalue decomposition\n",
        "cov_X_st = np.matmul(X_st.values.T, X_st.values)\n",
        "eigenvalues, eigenvectors = np.linalg.eig(cov_X_st)\n",
        "\n",
        "print(eigenvalues)\n",
        "\n",
        "# Step 3: Reduce the dimension! Choose the eigenvector corresponding to the largest eigenvalue\n",
        "max_idx = np.argmax(eigenvalues)\n",
        "X_prime = eigenvectors[:, max_idx].dot(X_st.T)\n",
        "X_prime_reduced = X_prime\n",
        "\n",
        "# Step 4: Visualize\n",
        "plt.figure()\n",
        "plt.scatter(X_prime_reduced, np.zeros(20))\n",
        "plt.show()"
      ]
    },
    {
      "cell_type": "code",
      "execution_count": null,
      "metadata": {
        "id": "8wqYaqIlBR_6",
        "outputId": "d40fe05b-5e61-428e-b45b-a671125ec120",
        "colab": {
          "base_uri": "https://localhost:8080/",
          "height": 430
        }
      },
      "outputs": [
        {
          "output_type": "display_data",
          "data": {
            "text/plain": [
              "<Figure size 640x480 with 1 Axes>"
            ],
            "image/png": "[encoded data removed]"
          },
          "metadata": {}
        }
      ],
      "source": [
        "#PCA implementation using sklearn library\n",
        "from sklearn import decomposition\n",
        "from sklearn import datasets\n",
        "\n",
        "pca = decomposition.PCA(n_components=2)\n",
        "\n",
        "X_p = pca.fit_transform(X_st)\n",
        "\n",
        "plt.figure()\n",
        "plt.scatter(X_p[:, 0], np.zeros(20))\n",
        "plt.show()"
      ]
    }
  ]
}