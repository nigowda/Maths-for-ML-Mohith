{
  "nbformat": 4,
  "nbformat_minor": 0,
  "metadata": {
    "colab": {
      "provenance": [],
      "toc_visible": true
    },
    "kernelspec": {
      "name": "python3",
      "display_name": "Python 3"
    },
    "language_info": {
      "name": "python"
    }
  },
  "cells": [
    {
      "cell_type": "markdown",
      "source": [
        "## Content\n",
        "- Basic intution for classifier\n",
        "- Simple searching algorithm\n",
        "- How to solve optimization problem\n",
        "- Defining the classification problem mathematically\n",
        "- Relationship between distance and gain function\n",
        "- Functions\n",
        "- Limits\n",
        "  - Continuity\n",
        "  - Domain and range\n",
        "- Some important functions\n"
      ],
      "metadata": {
        "id": "jf57SmlEknZ3"
      }
    },
    {
      "cell_type": "markdown",
      "source": [
        "## Basic intution for classifier"
      ],
      "metadata": {
        "id": "5L_fB8DzltTS"
      }
    },
    {
      "cell_type": "markdown",
      "source": [
        "We have a classification problem and our task it to find the best line that sepeerates the 2 classes\n",
        "\n",
        "Q. Do you ageree that there are infinite number of lines that can seperate the 2 classes?\n",
        "- Yes\n"
      ],
      "metadata": {
        "id": "1iuWsuNvlwZf"
      }
    },
    {
      "cell_type": "markdown",
      "source": [
        "![](https://d2beiqkhq929f0.cloudfront.net/public_assets/assets/000/048/368/original/Screenshot_2023-09-14_at_1.00.05_PM.png?1694676620)"
      ],
      "metadata": {
        "id": "oyuN3jb0mSzV"
      }
    },
    {
      "cell_type": "markdown",
      "source": [
        "Q. Is there a way in which we can calculate some kind of error for each line?\n",
        "- Do you agree that line L1 is properly classifying all the red and green points hence we can say that it is not making any errors\n",
        "  - Thus in an ideal situation the error should be 0\n",
        "- Now let say we also have another line which is misclassifying a single red point as belonging to green class rest all the orher points are classified correctly\n",
        "  - In this case we can define the error as Number of misclassified points divided by total number of points times 100\n",
        "  - so for this line the error would be 1% if we had 100 points in total"
      ],
      "metadata": {
        "id": "MnJRVriEGrwa"
      }
    },
    {
      "cell_type": "markdown",
      "source": [
        "![](https://d2beiqkhq929f0.cloudfront.net/public_assets/assets/000/048/401/original/Screenshot_2023-09-14_at_4.30.53_PM.png?1694689269)"
      ],
      "metadata": {
        "id": "uFO9hWhtWjcC"
      }
    },
    {
      "cell_type": "markdown",
      "source": [
        "Similarly we can calculate the error for all the lines, next what we can do is we can create a error plot of all the possible lines that will seperate the 2 class points as we can see below.\n",
        "\n",
        "Q. From all the possible lines which line should we pick by looking at the error plot?\n",
        "- we should pick that line which has the lowest error\n",
        "\n",
        "Q. By looking at the error plot can we also say that the error is following some kind of function\n",
        "- yes, so the red line would be the function of error of different lines that would seperate the points\n",
        "\n",
        "Q. In the ideal case do we want the error to be maximum or minimum?\n",
        "- Minimum\n",
        "\n",
        "**Note:**\n",
        "- that this error function changes depending upon the algorithm we choose we'll learn about them in the upcoming modules\n",
        "- This error is also called as the loss function or the cost function and we want this ideally to be 0"
      ],
      "metadata": {
        "id": "it4MuvCuWnlG"
      }
    },
    {
      "cell_type": "markdown",
      "source": [
        "![](https://d2beiqkhq929f0.cloudfront.net/public_assets/assets/000/048/411/original/Screenshot_2023-09-14_at_4.41.36_PM.png?1694689912)"
      ],
      "metadata": {
        "id": "zYMbHGwNY1l8"
      }
    },
    {
      "cell_type": "markdown",
      "source": [
        "Q. Let say we know what the error function is then how would we identiy the line which has the least error?\n",
        "- for that error function we would find where the minimum value occurs at and for that point with minimum value if we know what is the corresponding equation of line then we are good to go as that would be the best line that would classify the points.\n",
        "- here we have written L1 just to explain in reality they are nothing but our weight vectors as we know that we define a line using the weight vector that is perpendicular to that line\n",
        "\n",
        "So this is what we'll be learning over the next few classes"
      ],
      "metadata": {
        "id": "1HdEMi_EY2U8"
      }
    },
    {
      "cell_type": "markdown",
      "source": [
        "## Simple searching algorithm"
      ],
      "metadata": {
        "id": "IBS4fgJyaC9C"
      }
    },
    {
      "cell_type": "markdown",
      "source": [
        "Q. Let say we do not know about calculus then how would we go about finding the best possible line in the above error plot?\n",
        "- we would go one by one over all possible lines to find the line that has the least error\n",
        "- esentially we would perform a linear search\n",
        "\n",
        "Let's understand why this is not an optimal way to find the best possible line\n",
        "\n",
        "Let say that we are working with only 2 features $x_1$ and $x_2$ we can create an equation of line using the weight vector $w_1$, $w_2$ and $w_0$\n",
        "- Now let's say that we vary this weight values from -10 to +10 with a step size of 0.1\n",
        "\n",
        "Q. How many values do you iterate over for $w_1$?\n",
        "- We'll have in total of 201 points between -10 to +10 with a step size of 0.1\n",
        "- we'll be having similar 201 values to go over for $w_2$ and $w_0$\n",
        "\n",
        "Q. In total how many possible combination do we have for $w_1$, $w_2$ and $w_0$?\n",
        "- $201^3$"
      ],
      "metadata": {
        "id": "hcSIMLWGaJlU"
      }
    },
    {
      "cell_type": "markdown",
      "source": [
        "![](https://d2beiqkhq929f0.cloudfront.net/public_assets/assets/000/048/416/original/Screenshot_2023-09-14_at_4.57.02_PM.png?1694690837)"
      ],
      "metadata": {
        "id": "UcrXVenYcihi"
      }
    },
    {
      "cell_type": "markdown",
      "source": [
        "Q. Now let's say that our processor takes $10^{-6}$ seconds per possibility so for all the possibilities how much time will it take?\n",
        "- $201^3*10^{-6}$ which is roughly equal to 8 seconds\n",
        "- Also note that if we are lucky we'll get the correct answer given that our best possible line lies within the selected range of weight vectors\n",
        "\n",
        "Q. Now lets say we have increased the dimension that is we are noe working in 3D and equation of plane now how much time would it take for the same setup?\n",
        "- $201^4*10^{-6}$ which is 1632 seconds which is approximately equal to 27 minutes\n",
        "\n",
        "Q. if we increase one more dimension then how much time would it take?\n",
        "- $201^5*10^{-6}$ it would roughly take 91 hours"
      ],
      "metadata": {
        "id": "KujYHIa7cknu"
      }
    },
    {
      "cell_type": "markdown",
      "source": [
        "![](https://d2beiqkhq929f0.cloudfront.net/public_assets/assets/000/048/417/original/Screenshot_2023-09-14_at_5.06.35_PM.png?1694691409)"
      ],
      "metadata": {
        "id": "Yd4tH88Het9A"
      }
    },
    {
      "cell_type": "markdown",
      "source": [
        "## Defining the classification problem mathematically"
      ],
      "metadata": {
        "id": "ieOctG5Dg4rq"
      }
    },
    {
      "cell_type": "markdown",
      "source": [
        "Let's say we have a dataset with 2 features and a target varaible and it is a binary classification task so how do we represent this infomration mathematically?\n",
        "- the way we will write it will be  **$ D = \\left\\{{ ( x_i  y_i ) : x_i ⋹ R^d , y_i ⋹ {1,-1}}\\right\\}_{i=1}^n$**\n"
      ],
      "metadata": {
        "id": "uq-6-htwlkld"
      }
    },
    {
      "cell_type": "markdown",
      "source": [
        "The goal is to find a function $f(x)$ such that when we pass the feature vector $\\bar{x}$ to it as input it'll output a prediction on which class does the feature vector belong to\n",
        "- we denote this output as $\\hat{y_i}$ or $y_i'$ and we call it as predicted value\n",
        "- In ideal situations we would want $\\hat{y_i}$=$y_i$ where $y_i$ is the actual class lable"
      ],
      "metadata": {
        "id": "QN2A7tO50eBE"
      }
    },
    {
      "cell_type": "markdown",
      "source": [
        "![](https://d2beiqkhq929f0.cloudfront.net/public_assets/assets/000/048/432/original/Screenshot_2023-09-14_at_6.45.33_PM.png?1694697348)"
      ],
      "metadata": {
        "id": "IzXOr8Ru1YDb"
      }
    },
    {
      "cell_type": "markdown",
      "source": [
        "We studied about one type of function in the last class which is our ?\n",
        "- Perceptron learning algorithm where in we check for the sign of $w_i^Tx+w_0$ to tell in which half space does the point belong to\n",
        "- We can call this function as a classifier\n",
        "\n",
        "Q. So now what is the next step we are passing the points from dataset into our function $f(x)$ and get the predicted value for each point next we update the weight vectors to get a final function how did we do that?\n",
        "- Do you remember that we studied about the gain function where we wanted to maximise the distance of data points from the hyperplane\n",
        "  - The input to the gain function is our dataset D, $\\bar{w}$ and w_0\n",
        "-  And this is the function that we want to optimize because this gain function will measure how good the classifier function is performing"
      ],
      "metadata": {
        "id": "IDm4FBmm1aFY"
      }
    },
    {
      "cell_type": "markdown",
      "source": [
        "![](https://d2beiqkhq929f0.cloudfront.net/public_assets/assets/000/048/433/original/Screenshot_2023-09-14_at_6.57.08_PM.png?1694698042)"
      ],
      "metadata": {
        "id": "BJ2_1Yj44A1n"
      }
    },
    {
      "cell_type": "markdown",
      "source": [
        "**Note:**\n",
        "- here we have two functions\n",
        "  - One is our function of line $f(x)$ it need not necessarily be a line it can be any curve or even a circle.\n",
        "  - Now how well this function ie the classifier function is performing is measure using another function called as the Gain function.\n",
        "\n",
        "Q. if for a given classifer function $f(x)$ we have a very high value of gain function what does it mean?\n",
        "- it says that the classifier function is a good function where majority of data points are far away from the classifer\n",
        "\n",
        "Q. If Gain function has a high value then the loss function would have a ?\n",
        "- Lower value as loss function is just the opposite of the gain function"
      ],
      "metadata": {
        "id": "_mbh92fV4Ja2"
      }
    },
    {
      "cell_type": "markdown",
      "source": [
        "**Lets see how do we represent the gain function for a single point $x_i$**\n",
        "- it is represented as $g(\\bar{x_i},y_i,\\bar{w},w_0)$=$(\\frac{w^Tx_i+w_0}{\\left||w\\right||})y_i$\n",
        "\n",
        "- let's say that we denote $\\bar{w}^*$ and $w_0^*$ are the optimal values for the best classifier that we will get\n",
        "- To find this optimal values we would use the gain function where we want to maximize the gain function so as to get the best classifer\n",
        "\n",
        "Q. Do we care about the value of the gain function when it is maximum or do we care about the $\\bar{w}$ and $w_0$ parameter when the value if high?\n",
        "- we care about the parameters\n",
        "\n",
        "So we represent this as $argmax_{\\bar{w},w_0}G(D,\\bar{w},w_0)$\n",
        "- it is read as we want to find the values of $\\bar{w}$ and $w_0$ which maximizes the gain function  "
      ],
      "metadata": {
        "id": "BluqKxEq5MaZ"
      }
    },
    {
      "cell_type": "markdown",
      "source": [
        "![](https://d2beiqkhq929f0.cloudfront.net/public_assets/assets/000/048/434/original/Screenshot_2023-09-14_at_7.13.35_PM.png?1694699030)"
      ],
      "metadata": {
        "id": "77XePXo87yUe"
      }
    },
    {
      "cell_type": "markdown",
      "source": [
        "## Relationship between distance and gain function"
      ],
      "metadata": {
        "id": "oQqK-oKs8igN"
      }
    },
    {
      "cell_type": "markdown",
      "source": [
        "![](https://d2beiqkhq929f0.cloudfront.net/public_assets/assets/000/048/435/original/Screenshot_2023-09-14_at_7.19.27_PM.png?1694699382)"
      ],
      "metadata": {
        "id": "U7z1iszt8kOJ"
      }
    },
    {
      "cell_type": "markdown",
      "source": [
        "Q. Which is better equation 1 or 2 or both?\n",
        "  - here in equation 1 we are summing all the distances of each point\n",
        "  - in equation 2 we are multiplying all the distances of each point\n",
        "\n",
        "Equation 1 is the correct way of representing the gain function lets undertsand why\n",
        "\n",
        "Lets consider a scenario where we have our 2 class data points clustered together\n",
        "  - we can now compute the distance of each point from the classifier\n",
        "  - what if there is a point which sits on the line what would that distance be fromt he line?\n",
        "    - it would be 0 so now can you think what would happen when we multiply distances of all the points?\n",
        "      - the final value will become 0 and this is the reason why we are summing all the distances of the points and not multiplying them"
      ],
      "metadata": {
        "id": "wKsPEURa9I2Y"
      }
    },
    {
      "cell_type": "markdown",
      "source": [
        "![](https://d2beiqkhq929f0.cloudfront.net/public_assets/assets/000/048/436/original/Screenshot_2023-09-14_at_7.27.33_PM.png?1694699868)"
      ],
      "metadata": {
        "id": "try7ci7f9ZbR"
      }
    },
    {
      "cell_type": "markdown",
      "source": [
        "## Functions"
      ],
      "metadata": {
        "id": "Daoz2Mlp_O_c"
      }
    },
    {
      "cell_type": "markdown",
      "source": [
        "Let's understand the basics of what is a function"
      ],
      "metadata": {
        "id": "vBFoO6C4_QB1"
      }
    },
    {
      "cell_type": "markdown",
      "source": [
        "when we write $f(x)=y$\n",
        "- $f(x)$ is called as a function\n",
        "- and it is a mapping between the input $x$ and the output $y$\n",
        "\n",
        "Q. What do we call collection of all possible inputs as?\n",
        "- We call that as **Domain**\n",
        "- **Domain** are all x axis values that function is allowed to take, eg when we speak of logs we dont define it for negative numbers only poisitve so therefore when we speak of a function we need to define what are the values allowed or those make sense\n",
        "\n",
        "Q. What do we call the collection of all possible outputs?\n",
        "- We call it as **Range**"
      ],
      "metadata": {
        "id": "2pHjAzL6_S_h"
      }
    },
    {
      "cell_type": "markdown",
      "source": [
        "![](https://d2beiqkhq929f0.cloudfront.net/public_assets/assets/000/048/437/original/Screenshot_2023-09-14_at_7.32.14_PM.png?1694700148)"
      ],
      "metadata": {
        "id": "2sCNAT4_AC7G"
      }
    },
    {
      "cell_type": "markdown",
      "source": [
        "Let's define a function $y=f(x)=x^2$ here it means that x is mapped to y in the format of $x^2$\n",
        "- here 1,2,3 becomes our domain and the output 1,4,9 becomes our range for the given function\n"
      ],
      "metadata": {
        "id": "Pt6uKeRlALbP"
      }
    },
    {
      "cell_type": "markdown",
      "source": [
        "![](https://d2beiqkhq929f0.cloudfront.net/public_assets/assets/000/048/442/original/Screenshot_2023-09-14_at_7.36.45_PM.png?1694700419)"
      ],
      "metadata": {
        "id": "1UJ006daBGTe"
      }
    },
    {
      "cell_type": "markdown",
      "source": [
        "![](https://d2beiqkhq929f0.cloudfront.net/public_assets/assets/000/048/444/original/Screenshot_2023-09-14_at_7.40.27_PM.png?1694700705)"
      ],
      "metadata": {
        "id": "WEAsXodzB3wN"
      }
    },
    {
      "cell_type": "markdown",
      "source": [
        "Q. How do we identify if a given function is a valid function or not?\n",
        "- For a function to be identified as a function it should satisfy the condition that\n",
        "- **for a single value of x it should have only a single value of y**\n",
        "\n",
        "Thus a function is a mapping between input and output where multiple inputs can have same output but a single input cannot have multiple outputs\n",
        "\n",
        "Equation of a circle is not a function if we look from the lense of how a function is defined rather from the Machine learning perspective we'll call that as a non linear boundary"
      ],
      "metadata": {
        "id": "MTzWp8FTCPet"
      }
    },
    {
      "cell_type": "markdown",
      "source": [
        "## Limits"
      ],
      "metadata": {
        "id": "HhIYFmA2Dp49"
      }
    },
    {
      "cell_type": "markdown",
      "source": [
        "There are 2 types of functions\n",
        "1. Continuous functions (left function)\n",
        "  - A very basic defination of this function would be: they are function which **can** be draw wihtout lifting the pen from the paper\n",
        "2. Discontinuous functions (Right function it is called as **signum function**)\n",
        " - A very basic defination of this function would be: they are function which **cannot** be draw wihtout lifting the pen from the paper"
      ],
      "metadata": {
        "id": "ab_dAIlOD0np"
      }
    },
    {
      "cell_type": "markdown",
      "source": [
        "![](https://d2beiqkhq929f0.cloudfront.net/public_assets/assets/000/048/445/original/Screenshot_2023-09-14_at_7.56.13_PM.png?1694701588)"
      ],
      "metadata": {
        "id": "h8C0PdnuFjAi"
      }
    },
    {
      "cell_type": "markdown",
      "source": [
        "Now let's understand what is limits\n",
        "\n",
        "Let's use our discontinuous function we'll learn about 2 new terminologies\n",
        "1. Right hand limit\n",
        "  - It means we are approaching a value let say 0 from positive direction\n",
        "  - for the signum function we can see that as it is approaching 0 from the positive side the value tends to 1\n",
        "2. Left hand limit\n",
        "  - It means we are approaching a value let say 0 from negative direction\n",
        "  - for the signum function we can see that as it is approaching 0 from the negative side the value tends to -1"
      ],
      "metadata": {
        "id": "pJUsZ0DMFQ9s"
      }
    },
    {
      "cell_type": "markdown",
      "source": [
        "![](https://d2beiqkhq929f0.cloudfront.net/public_assets/assets/000/048/446/original/Screenshot_2023-09-14_at_8.02.43_PM.png?1694701978)"
      ],
      "metadata": {
        "id": "mBI_FDuNHCLu"
      }
    },
    {
      "cell_type": "markdown",
      "source": [
        "Let's look at continuous function now, and we pick any random value of x let say x=3 the corresponding value of y would be 9 since the function is $f(x)=x^2$\n",
        "1. Right hand limit\n",
        "  - Here it means that what is the value of y when we are approaching the value of x=3 from the positive side ie from value of x greater than 3\n",
        "  - So as we reach very very close to the point of x=3 the y value tends to or becomes equal to 9\n",
        "    - let's say that the x value is 3.0000001 can you see the corresponding y value be 9.0000006 which is very close to 9\n",
        "    - thus we say that as we approach x=3 the value of y tends to 9\n",
        "2. Left hand limit\n",
        "  - similarly here it means that what is the value of y when we are approaching the value of x=3 from the negative side ie from value of x less than 3\n",
        "  - so for value of x=2.9999999 the corresponding value of y would be 8.9999994 can you see it is very close to 9\n",
        "  - thus we say that as we approach x=3 from the left hand side the corresponding y value tends to 9"
      ],
      "metadata": {
        "id": "Tyk1wKZEHTwG"
      }
    },
    {
      "cell_type": "markdown",
      "source": [
        "![](https://d2beiqkhq929f0.cloudfront.net/public_assets/assets/000/048/447/original/Screenshot_2023-09-14_at_8.11.52_PM.png?1694702528)"
      ],
      "metadata": {
        "id": "24XeeZ5LJJJT"
      }
    },
    {
      "cell_type": "markdown",
      "source": [
        "**We call a function as continuous if it satisfies the below condition**\n",
        "- `left hand limit is equal to right hand limit is eqaul to the f(x) value at x=a`\n",
        "- if we come from either of the side we should reach the same point\n",
        "- continuity is measured at a specific point\n",
        "- continous function is one that at all valid x values it is continous"
      ],
      "metadata": {
        "id": "gUuFxU9gJRvM"
      }
    },
    {
      "cell_type": "markdown",
      "source": [
        "![](https://d2beiqkhq929f0.cloudfront.net/public_assets/assets/000/048/448/original/Screenshot_2023-09-14_at_8.14.37_PM.png?1694702691)"
      ],
      "metadata": {
        "id": "iGicz8VNJv_K"
      }
    },
    {
      "cell_type": "markdown",
      "source": [
        "## Some important functions"
      ],
      "metadata": {
        "id": "iQ2pUFAVL35-"
      }
    },
    {
      "cell_type": "markdown",
      "source": [
        "![](https://d2beiqkhq929f0.cloudfront.net/public_assets/assets/000/048/449/original/Screenshot_2023-09-14_at_8.25.30_PM.png?1694703346)"
      ],
      "metadata": {
        "id": "P9IL_xOjMQH2"
      }
    },
    {
      "cell_type": "markdown",
      "source": [
        "![](https://d2beiqkhq929f0.cloudfront.net/public_assets/assets/000/048/451/original/Screenshot_2023-09-14_at_8.26.14_PM.png?1694703389)"
      ],
      "metadata": {
        "id": "CZL8jhpMMaoJ"
      }
    },
    {
      "cell_type": "code",
      "execution_count": null,
      "metadata": {
        "id": "Vs9A_nAzkW4C"
      },
      "outputs": [],
      "source": []
    }
  ]
}