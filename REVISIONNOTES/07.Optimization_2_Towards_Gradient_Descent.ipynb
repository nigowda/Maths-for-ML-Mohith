{
  "nbformat": 4,
  "nbformat_minor": 0,
  "metadata": {
    "colab": {
      "provenance": [],
      "toc_visible": true
    },
    "kernelspec": {
      "name": "python3",
      "display_name": "Python 3"
    },
    "language_info": {
      "name": "python"
    }
  },
  "cells": [
    {
      "cell_type": "markdown",
      "source": [
        "## Content\n",
        "- Recap\n",
        "- Differentiation geomtric picture\n",
        "- How to find derivative for any given function\n",
        "  - Examples of finding derivatives of some functions\n",
        "- How to check if a function is differentiable\n",
        "  - Checking differentiability of few functions\n",
        "- Commonly used derivatives\n",
        "- Rules of differentiation\n",
        "  - Linearity rule\n",
        "  - Product rule\n",
        "  - Quotient rule\n",
        "  - Chain rule\n",
        "- How do we use derivatives for optimization\n",
        "  - How to identify critical points for any function\n",
        "  - How to indentify if a critical point is minima or maxima"
      ],
      "metadata": {
        "id": "jzbs4JfAPIns"
      }
    },
    {
      "cell_type": "markdown",
      "source": [
        "## Recap"
      ],
      "metadata": {
        "id": "K3HKEpS4lgoz"
      }
    },
    {
      "cell_type": "markdown",
      "source": [
        "\n",
        "\n",
        "We learnt about the optimization equation in the last class now let's quickly understand it from an example\n",
        "\n",
        "We want to find the value of x which maximizes the function $-(x-2)^2$\n",
        "\n",
        "As we can see that the maximum value for this function is 0\n",
        "\n",
        "Q. What is the value of x at which this maximum value occurs?\n",
        "  - it is x=2 as we can see from the plot\n"
      ],
      "metadata": {
        "id": "zcwH3OOYoYTT"
      }
    },
    {
      "cell_type": "markdown",
      "source": [
        "![](https://d2beiqkhq929f0.cloudfront.net/public_assets/assets/000/048/559/original/Screenshot_2023-09-15_at_12.25.20_PM.png?1694760940)"
      ],
      "metadata": {
        "id": "I40BgitWn_yc"
      }
    },
    {
      "cell_type": "markdown",
      "source": [
        "![](https://d2beiqkhq929f0.cloudfront.net/public_assets/assets/000/048/560/original/Screenshot_2023-09-15_at_12.26.24_PM.png?1694761000)"
      ],
      "metadata": {
        "id": "XjOD_KgWoBXd"
      }
    },
    {
      "cell_type": "markdown",
      "source": [
        "## Differentiation geometric picture"
      ],
      "metadata": {
        "id": "DwxaXyr2oM5m"
      }
    },
    {
      "cell_type": "markdown",
      "source": [
        "Let's say we have 2 points on the line $(x_1, y_1)$ and $(x_2, y_2)$\n",
        "\n",
        "Q. What is the slope of this line?\n",
        "- it would be $tan(\\theta)=\\frac{y_2-y_1}{x_2-x_1}$"
      ],
      "metadata": {
        "id": "u9MqHhbmppDD"
      }
    },
    {
      "cell_type": "markdown",
      "source": [
        "![](https://d2beiqkhq929f0.cloudfront.net/public_assets/assets/000/048/561/original/Screenshot_2023-09-15_at_12.36.09_PM.png?1694761590)"
      ],
      "metadata": {
        "id": "Pvv0nAUVqRZ4"
      }
    },
    {
      "cell_type": "markdown",
      "source": [
        "Now let's see what will happen if we have a complicated curve and not a straight line\n",
        "\n",
        "- let this be a function $y=f(x)$\n",
        "- For the two points we can create a line which connect both the point on that curve which means that it is passing through both the points is also making angle with the x axis but do you also notice a gap between the line and the curve/ function.\n",
        "- Now we can get the slope of the points the same way we did earlier which is $\\frac{y_2-y_1}{x_2-x_1}$\n",
        "\n",
        "**Q. Can we rename the points as follows**\n",
        "  - $(x_2,y_2) ->(x_2,f(x_2)) $\n",
        "  - $(x_1,y_1) ->(x_1,f(x_1)) $\n",
        "  - Yes we can as they mean the same thing\n",
        "\n",
        "now using this notation our slope equation becomes\n",
        "- $\\frac{f(x_2)-f(x_1)}{x_2-x_1}$"
      ],
      "metadata": {
        "id": "cErTyNsgqdR9"
      }
    },
    {
      "cell_type": "markdown",
      "source": [
        "![](https://d2beiqkhq929f0.cloudfront.net/public_assets/assets/000/048/567/original/Screenshot_2023-09-15_at_12.44.31_PM.png?1694762087)"
      ],
      "metadata": {
        "id": "jFfUDH6wrBkV"
      }
    },
    {
      "cell_type": "markdown",
      "source": [
        "Let's call point $(x1,f(x_1))$ as point A and $(x2,f(x_2))$ as point B\n",
        "\n",
        "Let's fix point A and and we start changing the point B and come closer to point A we keep doing this untill the new point is very very close to out exisiting point A\n",
        "\n",
        "So esentially this new poitn would be slightly greater than A ie it'll have a value of x and f(x) slightly greater than x this slight difference we call it as $\\Delta x$ and we'll represent this new point as $(x+\\Delta x)$ and the correspoinding y value would become $f(x_1+\\Delta x)$"
      ],
      "metadata": {
        "id": "YdwaxPwmswej"
      }
    },
    {
      "cell_type": "markdown",
      "source": [
        "Next we would find the slope between the point A and the new point closer to point A\n",
        "- the slope would be $\\frac{f(x+\\Delta x)-f(x_1)}{\\Delta x}$\n",
        "\n",
        "What are we trying to find out here?\n",
        "- we are trying to find out a line between 2 points which are very very very close to each otherand we say that the value of $\\Delta x$ approached 0"
      ],
      "metadata": {
        "id": "M_eKrwIfuGzm"
      }
    },
    {
      "cell_type": "markdown",
      "source": [
        "![](https://d2beiqkhq929f0.cloudfront.net/public_assets/assets/000/048/571/original/Screenshot_2023-09-15_at_1.01.35_PM.png?1694763114)"
      ],
      "metadata": {
        "id": "GwJGoul0wQI_"
      }
    },
    {
      "cell_type": "markdown",
      "source": [
        "**Terminologies**\n",
        "\n",
        "- If a line joins any 2 points on a function curve we call that as a **secant**\n",
        "- If a line touches only 1 points on a function or curve we call that as a **Tangent**\n",
        "\n",
        "This tangents are very imporant and they help us get the derivatives let's see how\n",
        "- Let's say we have a function with the curve as shown and we have a point $(x_1, f(x_1))$ on this curve\n",
        "- Now to define the derivate what we do is we define a tangent that touches this point $x_1$\n",
        "- Thus the derivate of a function $f(x)$ at $x=x_1$ and is nothing but the slope of the tangent at that point $x_1$\n",
        "  - $f'(x_1)=L_{\\Delta x->0}\\frac{f(x+\\Delta x)-f(x_1)}{\\Delta x}$\n",
        "  - here we are using limit as as $\\Delta x$ approached 0 because what we want is as this difference becomes smaller and smaller we'll reach to a point where it is touching the curve at only one single point which is nothing but our tanget and at that point we'll be checking what the slope is.\n",
        "  \n",
        "Now the slope at point $x_1$ will have some positive value of slope now what will be the slope at point $x_2$?\n",
        "- it'll be 0"
      ],
      "metadata": {
        "id": "3Uwx5PDmwRZG"
      }
    },
    {
      "cell_type": "markdown",
      "source": [
        "![](https://d2beiqkhq929f0.cloudfront.net/public_assets/assets/000/048/585/original/Screenshot_2023-09-15_at_1.15.08_PM.png?1694763927)"
      ],
      "metadata": {
        "id": "3rvnSXrFze6p"
      }
    },
    {
      "cell_type": "markdown",
      "source": [
        "**Note:**\n",
        "- $\\Delta x$ is also represented as $\\delta x$ at many places but they refer to the same thing in this context"
      ],
      "metadata": {
        "id": "nAbmDlABz1PX"
      }
    },
    {
      "cell_type": "markdown",
      "source": [
        "## How to find derivative for any given function"
      ],
      "metadata": {
        "id": "ZKnwrYB6zuOv"
      }
    },
    {
      "cell_type": "markdown",
      "source": [
        "The simplest way to finding the derivative of a function is use th defination that we saw above this is known as *Ab initio method*\n",
        "- $\\frac{d}{dx}f(x_1)=f'(x)=L_{\\Delta x \\to 0}\\frac{f(x+\\Delta x)-f(x_1)}{\\Delta x}$\n",
        "- if you see a notation as $f''(x_1)$ it means that we have take derivative 2 times\n",
        "\n",
        "The second method which we'll be using is we'll rememebr the derivatives of some well known function and then use them and some rules when deriving the derivatives of unkownn functions."
      ],
      "metadata": {
        "id": "8iPtr2dszvde"
      }
    },
    {
      "cell_type": "markdown",
      "source": [
        "![](https://d2beiqkhq929f0.cloudfront.net/public_assets/assets/000/048/589/original/Screenshot_2023-09-15_at_1.23.51_PM.png?1694764446)"
      ],
      "metadata": {
        "id": "hmxoatPf1VOv"
      }
    },
    {
      "cell_type": "markdown",
      "source": [
        "### Examples of finding derivatives of some functions"
      ],
      "metadata": {
        "id": "sberUOcT25Vx"
      }
    },
    {
      "cell_type": "markdown",
      "source": [
        "#### $f(x)=x^2$"
      ],
      "metadata": {
        "id": "AeNPMxvuBdns"
      }
    },
    {
      "cell_type": "markdown",
      "source": [
        "we'll us the standard defination of derivatives\n",
        "\n",
        "We know that\n",
        "\n",
        "$f'(x) = \\lim_{x \\to 0} \\frac{f(x+Δx) - f(x)}{Δx}$\n",
        "\n",
        "$= \\lim_{x \\to 0} \\frac{(x+Δx)^2 - x^2}{Δx}$\n",
        "\n",
        "$= \\lim_{x \\to 0} \\frac{(Δx)^2 + 2x(Δx)}{Δx}$\n",
        "\n",
        "$= \\lim_{x \\to 0} Δx + 2x$\n",
        "\n",
        "$= 2x$\n"
      ],
      "metadata": {
        "id": "VRipffGF26jU"
      }
    },
    {
      "cell_type": "markdown",
      "source": [
        "![](https://d2beiqkhq929f0.cloudfront.net/public_assets/assets/000/048/591/original/Screenshot_2023-09-15_at_1.32.38_PM.png?1694764974)"
      ],
      "metadata": {
        "id": "3d1_LoYM3VvZ"
      }
    },
    {
      "cell_type": "markdown",
      "source": [
        "##### Finding derivative using code"
      ],
      "metadata": {
        "id": "geobaxZc-pGs"
      }
    },
    {
      "cell_type": "markdown",
      "source": [
        "Let's look at how we can find this using code"
      ],
      "metadata": {
        "id": "VC9zK5OGlBXL"
      }
    },
    {
      "cell_type": "code",
      "execution_count": null,
      "metadata": {
        "id": "JOMlUSkLlRyO"
      },
      "outputs": [],
      "source": [
        "import numpy as np\n",
        "import matplotlib.pyplot as plt"
      ]
    },
    {
      "cell_type": "code",
      "source": [
        "def plot_function(func):\n",
        "  x_values = np.linspace(-10, 10, 1000)\n",
        "  y_values = [func(x) for x in x_values]\n",
        "\n",
        "  plt.plot(x_values, y_values)"
      ],
      "metadata": {
        "id": "It4_vGOFlKI7"
      },
      "execution_count": null,
      "outputs": []
    },
    {
      "cell_type": "code",
      "source": [
        "plot_function(lambda x: x**2)"
      ],
      "metadata": {
        "colab": {
          "base_uri": "https://localhost:8080/",
          "height": 430
        },
        "id": "VVWdsgaUlfyN",
        "outputId": "5b7da177-685c-4344-c650-383293aed8ef"
      },
      "execution_count": null,
      "outputs": [
        {
          "output_type": "display_data",
          "data": {
            "text/plain": [
              "<Figure size 640x480 with 1 Axes>"
            ],
            "image/png": "[encoded data removed]"
          },
          "metadata": {}
        }
      ]
    },
    {
      "cell_type": "markdown",
      "source": [
        "Now let's write another function `plot_derivative()`"
      ],
      "metadata": {
        "id": "rDwGcACKlroG"
      }
    },
    {
      "cell_type": "code",
      "source": [
        "def plot_derivative(func):\n",
        "  x_values = np.linspace(-10, 10, 1000)\n",
        "  # delta has to be close to 0, but cannot be 0, that would give division by 0\n",
        "  delta = 0.0001\n",
        "\n",
        "  y_values = (func(x_values + delta) - func(x_values)) / delta\n",
        "\n",
        "  plt.plot(x_values, y_values)"
      ],
      "metadata": {
        "id": "DHF0KKTplv6-"
      },
      "execution_count": null,
      "outputs": []
    },
    {
      "cell_type": "code",
      "source": [
        "plot_derivative(lambda x: x**2)"
      ],
      "metadata": {
        "colab": {
          "base_uri": "https://localhost:8080/",
          "height": 430
        },
        "id": "2kGBoAO7mxIt",
        "outputId": "07bdedbb-540b-4cd2-9af1-3e28d4a4497c"
      },
      "execution_count": null,
      "outputs": [
        {
          "output_type": "display_data",
          "data": {
            "text/plain": [
              "<Figure size 640x480 with 1 Axes>"
            ],
            "image/png": "[encoded data removed]"
          },
          "metadata": {}
        }
      ]
    },
    {
      "cell_type": "markdown",
      "source": [
        "Observe that this plot is following the function $g(x) = 2x$, which is exactly what we evaluated as $f'(x)$."
      ],
      "metadata": {
        "id": "2szEGhOJm9FS"
      }
    },
    {
      "cell_type": "markdown",
      "source": [
        "**Let's remember some rules to solve a function which is in the form of $(x)^n$**\n",
        "- to compute the derivative of such function what we do is we bring down the n in front of the x variable and subtract 1 from the power to get the final value of the derivative.\n",
        "- $\\frac{d}{dx}f(x)^n=n.x^{n-1}$"
      ],
      "metadata": {
        "id": "gFDmezQU_jyx"
      }
    },
    {
      "cell_type": "markdown",
      "source": [
        "![](https://d2beiqkhq929f0.cloudfront.net/public_assets/assets/000/048/612/original/Screenshot_2023-09-15_at_2.12.22_PM.png?1694767403)"
      ],
      "metadata": {
        "id": "fnvezjcWAnG0"
      }
    },
    {
      "cell_type": "markdown",
      "source": [
        "#### $f(x)=x$ and $f(x)=-x$"
      ],
      "metadata": {
        "id": "zHqcaimJBigH"
      }
    },
    {
      "cell_type": "markdown",
      "source": [
        "Q. if $f(x)=x$ then what is $f'(x)$\n",
        "- it is 1 because we can write x as $x^1$ and solving this we would get the value as 1\n",
        "\n",
        "Q. if $f(x)=-x$ then what is $f'(x)$\n",
        "- it is -1"
      ],
      "metadata": {
        "id": "0aHRdjsQAoZZ"
      }
    },
    {
      "cell_type": "markdown",
      "source": [
        "![](https://d2beiqkhq929f0.cloudfront.net/public_assets/assets/000/048/613/original/Screenshot_2023-09-15_at_2.15.36_PM.png?1694767550)"
      ],
      "metadata": {
        "id": "TDRf9eluBKlZ"
      }
    },
    {
      "cell_type": "markdown",
      "source": [
        "#### $f(x)=\\left|x\\right|$"
      ],
      "metadata": {
        "id": "gmGCBw2nBruR"
      }
    },
    {
      "cell_type": "markdown",
      "source": [
        "The defination of this mod function is\n",
        "- for all the values where x is greater than 0 y=x\n",
        "- for all the values where x is less than 0 y=-x\n",
        "  - here -x is because for let say f(-10) the corresponsing value of y is +10\n",
        "  - thus when we take negative of x we'll get 10 hence -(x) we'll get -(-10) which is 10\n",
        "- for x=0 y=0\n",
        "\n",
        "We can divide the area into 2 parts one which belongs to $y=x$ and other that belogs to $y=-x$\n",
        "\n",
        "So in this case we can create 3 cases to find the derivatives of this function\n"
      ],
      "metadata": {
        "id": "ohx7UzsBByws"
      }
    },
    {
      "cell_type": "markdown",
      "source": [
        "**Case 1:**\n",
        "- $f(x)=x$ then the derivative of this function at x will be 1 we have already learnt this\n",
        "\n",
        "**Case 2**:\n",
        "- the derivative of function f(x)=-x will be -1 we can also solve this usign the standard defination of derivative\n",
        "\n",
        "**Case 3:**\n",
        "- Q. Can we say that the function is continuous at x=0?\n",
        "  - yes we can say that it is continuous as right hand limit as x tends to 0 will be equal to left hand limit as x tends to 0 will be equal to the value of f(x) as x=0 all will be equal\n",
        "- Now differentiability at this point can be defined as\n",
        "  - we will find out $L_{x \\to 0^+}f'(x)$ which is what is the value as x tends to 0 from positive side on the derivative of the function, which is equal to 1\n",
        "  - and we will also find out $L_{x \\to 0^-}f'(x)$ which is what is the value as x tends to 0 from negagive side on the derivative of the function, which is equal to -1\n",
        "  - so we can say that this function is non-differentiable at point x=0\n"
      ],
      "metadata": {
        "id": "2pXIy5PvC6Xc"
      }
    },
    {
      "cell_type": "markdown",
      "source": [
        "![](https://d2beiqkhq929f0.cloudfront.net/public_assets/assets/000/048/619/original/Screenshot_2023-09-15_at_2.32.57_PM.png?1694768595)"
      ],
      "metadata": {
        "id": "L8L-Y-E7E7ly"
      }
    },
    {
      "cell_type": "markdown",
      "source": [
        "**Let's intutively understand what differentiation is**\n",
        "\n",
        "Let say you are at point A and want to travel to point B\n",
        "- Let the distance from point a to point B be x\n",
        "\n",
        "Now we want to find out how quickly he reached point B in some amount fo time so what are we esentially finding here?\n",
        "- we are finding the speed\n",
        "- so if we have a function of distance $f(x)=x$ then we can take the derivate to find out how the distance is changing with respect to time which is rerpesented as $\\frac{d}{dt}(x)$\n",
        "- Now let say you are sitting in a car then we are never moving at a constant speed either we are accelerating or decelerating so if we were to find out the rate of change of speed with respect to time this is nothing but acceleration\n",
        "  - we'll get this by taking second derivaite on top of the previous derivaite hence we represent it as $f''(x)$=$\\frac{d}{dt}f'(x)$"
      ],
      "metadata": {
        "id": "az2W0M24Jxo2"
      }
    },
    {
      "cell_type": "markdown",
      "source": [
        "Do you remember the laws on motion in your high school ?\n",
        "- if not don't worry we wont go there but do you remember an eqaution as $s=ut+1/2at^2$\n",
        "  - where u= inital velocity\n",
        "  - t is the time\n",
        "  - a is the acceleration\n",
        "\n",
        "Now we waant to find out what is $\\frac{d}{dt}s$, lets see how to get this\n",
        "- where getting a derivate of a constant multiplied with a varaible like 2x we take the constant out and then compute the derivative of that variable\n",
        "  - so derivative of $ut$ with respect to $t$ would be equal to $u\\frac{d}{dt}t$ which is eual to $u$\n",
        "- next $1/2a$ will act as a constant and $t^2$ is our variable so the derivate of this is as follows:\n",
        "  - $1/2a\\frac{d}{dt}t^2$\n",
        "  - 2/2.a.t\n",
        "  - at\n",
        "\n",
        "thus $\\frac{d}{dt}s=u+at$\n",
        "\n",
        "and the second derivative would be represented as\n",
        "- $\\frac{d^2}{dt^2}s=a$"
      ],
      "metadata": {
        "id": "CAqMojtTMKsW"
      }
    },
    {
      "cell_type": "markdown",
      "source": [
        "![](https://d2beiqkhq929f0.cloudfront.net/public_assets/assets/000/048/626/original/Screenshot_2023-09-15_at_3.12.40_PM.png?1694770975)"
      ],
      "metadata": {
        "id": "Gm0XChOkOO19"
      }
    },
    {
      "cell_type": "markdown",
      "source": [
        "## How to check if a function is differentiable"
      ],
      "metadata": {
        "id": "pG7xjZrnOfWE"
      }
    },
    {
      "cell_type": "markdown",
      "source": [
        "**Steps**\n",
        "1. we will find out the value of first derivative of the function ie $f'(x)$\n",
        "2. Find out if the values are continuous or discontinuous at $f'(x)$\n",
        "  - For this we have to create a plot of $f'(x)$ and then check whether it is continuous or discontinuous\n",
        "  - **So if $f'(x)$ is discontinuous then we say that $f(x)$ is not differentiable**"
      ],
      "metadata": {
        "id": "C2xFsCpROkvW"
      }
    },
    {
      "cell_type": "markdown",
      "source": [
        "![](https://d2beiqkhq929f0.cloudfront.net/public_assets/assets/000/048/893/original/Screenshot_2023-09-18_at_11.39.39_AM.png?1695017394)"
      ],
      "metadata": {
        "id": "mtbpD9P86GbO"
      }
    },
    {
      "cell_type": "markdown",
      "source": [
        "### checking differentiability for $f(x)=\\left|x\\right|$"
      ],
      "metadata": {
        "id": "1O3eBHR8_TKf"
      }
    },
    {
      "cell_type": "markdown",
      "source": [
        "Let's understand the same concept visually via the tangents concept and checking of function $f(x)=\\left|x\\right|$ is differentiable or not"
      ],
      "metadata": {
        "id": "7ailsi9d6cZm"
      }
    },
    {
      "cell_type": "markdown",
      "source": [
        "When we say that a function is differentiable we say that we can find out the slope of the tangent\n",
        "\n",
        "Q. Now for the given function $f(x)=\\left|x\\right|$ at point $x=0$ can we find the slope?\n",
        "- Your first question should be how should we create this tanget as you can see that there can be multiple tangets possible at this point.\n",
        "- Because of this we say that at point $x=0$ we cannot differentiate the function $f(x)=\\left|x\\right|$"
      ],
      "metadata": {
        "id": "cCljm0cc6h7f"
      }
    },
    {
      "cell_type": "markdown",
      "source": [
        "Mathematically we'll do something as follows based on the above mentioned steps\n",
        "- We'll first take the first derivate of the function $f(x)$\n",
        "  - it'll be +1 where values of x is greater than 0\n",
        "  - it'll be -1 where values of x is less than 0\n",
        "  - And we cannot differentiat at x=0\n",
        "- Thus we say that the function $f'(x)$ is discontinuous and hence the function $f(x)$ is not differentiable"
      ],
      "metadata": {
        "id": "F9ydWc8m7Zpa"
      }
    },
    {
      "cell_type": "markdown",
      "source": [
        "![](https://d2beiqkhq929f0.cloudfront.net/public_assets/assets/000/048/894/original/Screenshot_2023-09-18_at_11.47.43_AM.png?1695017880)"
      ],
      "metadata": {
        "id": "Z6BzZfnL8HU2"
      }
    },
    {
      "cell_type": "markdown",
      "source": [
        "Q. From the given below function identify the function which is non differentiable.\n",
        "- Note that these are $f(x)$ and not $f'(x)$"
      ],
      "metadata": {
        "id": "wh6cQ-kB8JAx"
      }
    },
    {
      "cell_type": "markdown",
      "source": [
        "![](https://d2beiqkhq929f0.cloudfront.net/public_assets/assets/000/048/895/original/Screenshot_2023-09-18_at_11.49.20_AM.png?1695017975)"
      ],
      "metadata": {
        "id": "ST5NRJ6L8QPJ"
      }
    },
    {
      "cell_type": "markdown",
      "source": [
        "- The correct answer is 2 and 3\n",
        "  - for function 2 we can have multiple tangets at the point where the function is dipping\n",
        "  - for function 3 is itself a discontinuous function hence it cannot be differentiated"
      ],
      "metadata": {
        "id": "9g0wWNb586RS"
      }
    },
    {
      "cell_type": "markdown",
      "source": [
        "![](https://d2beiqkhq929f0.cloudfront.net/public_assets/assets/000/048/896/original/Screenshot_2023-09-18_at_11.52.07_AM.png?1695018141)"
      ],
      "metadata": {
        "id": "syreqLrM87Uh"
      }
    },
    {
      "cell_type": "markdown",
      "source": [
        "### checking differentiability for $f(x)=x^2$"
      ],
      "metadata": {
        "id": "M7JnPbnCBqBX"
      }
    },
    {
      "cell_type": "markdown",
      "source": [
        "![](https://d2beiqkhq929f0.cloudfront.net/public_assets/assets/000/048/897/original/Screenshot_2023-09-18_at_12.12.53_PM.png?1695019390)"
      ],
      "metadata": {
        "id": "cl-szkgJB-86"
      }
    },
    {
      "cell_type": "markdown",
      "source": [
        "in the plot $f'(x)$ we are essentially tracking what is the slope for different values of x and this is how the plot is generated in the first place"
      ],
      "metadata": {
        "id": "FTFiWLWXCdBn"
      }
    },
    {
      "cell_type": "markdown",
      "source": [
        "## Commonly used derivatives"
      ],
      "metadata": {
        "id": "XBM0CqtvD3iB"
      }
    },
    {
      "cell_type": "markdown",
      "source": [
        "![](https://d2beiqkhq929f0.cloudfront.net/public_assets/assets/000/048/901/original/Screenshot_2023-09-18_at_12.22.19_PM.png?1695019955)"
      ],
      "metadata": {
        "id": "tE9jDaYREBS7"
      }
    },
    {
      "cell_type": "markdown",
      "source": [
        "## Rules of differentiation"
      ],
      "metadata": {
        "id": "jsaDoVlZEgkb"
      }
    },
    {
      "cell_type": "markdown",
      "source": [
        "### Linearity rule"
      ],
      "metadata": {
        "id": "yCGySymnEjn7"
      }
    },
    {
      "cell_type": "markdown",
      "source": [
        "if we have a function $h(x)=g(x)+f(x)$ and we want to find the derivative of $h(x)$\n",
        "- To calculate this we'll simply find the deeriavte of the two functions $g(x)$ and $f(x)$ and simple add them\n",
        "- hence $h'(x)=g'(x)+f'(x)$"
      ],
      "metadata": {
        "id": "oQEG_bonEoRi"
      }
    },
    {
      "cell_type": "markdown",
      "source": [
        "Example: $f(x)=x^3+log(x)$\n",
        "- $f'(x)=3x^2+\\frac{1}{x}$"
      ],
      "metadata": {
        "id": "tsxz5CxZFE7S"
      }
    },
    {
      "cell_type": "markdown",
      "source": [
        "![](https://d2beiqkhq929f0.cloudfront.net/public_assets/assets/000/048/903/original/Screenshot_2023-09-18_at_12.29.14_PM.png?1695020369)"
      ],
      "metadata": {
        "id": "DrdhuTQxFl3D"
      }
    },
    {
      "cell_type": "markdown",
      "source": [
        "There is another case where to a function we multiply a constant value\n",
        "ie $h(x)=c.f(x)$ where $c \\in \\mathbb{R}$\n",
        "- to find the derivate in this case we keep the c as it is and we'll finc the deriavtive of $f(x)$\n",
        "- $h'(x)=c.f'(x)$\n",
        "\n",
        "**Example:**\n",
        "- $f(x)=3.sin(x)$\n",
        "  - $f'(x)=3.cos(x)$"
      ],
      "metadata": {
        "id": "uu09NYKMFnRq"
      }
    },
    {
      "cell_type": "markdown",
      "source": [
        "![](https://d2beiqkhq929f0.cloudfront.net/public_assets/assets/000/048/904/original/Screenshot_2023-09-18_at_12.34.17_PM.png?1695020674)"
      ],
      "metadata": {
        "id": "C67FIfGeGwVj"
      }
    },
    {
      "cell_type": "markdown",
      "source": [
        "### Product rule"
      ],
      "metadata": {
        "id": "GIM9RaH3G0-b"
      }
    },
    {
      "cell_type": "markdown",
      "source": [
        "Let say we have a function $h(x)=g(x).f(x)$ how would we find out the derivative of $h(x)$?\n",
        "- In this case we take $g(x)$ as constant and find the derivate of $f(x)$ plus take $f(x)$ as constant and find the derivate of $g(x)$\n",
        "- thus $h'(x)=f'(x).g(x)+f(x).g'(x)$"
      ],
      "metadata": {
        "id": "x8BRLmluG50n"
      }
    },
    {
      "cell_type": "markdown",
      "source": [
        "![](https://d2beiqkhq929f0.cloudfront.net/public_assets/assets/000/048/905/original/Screenshot_2023-09-18_at_12.38.54_PM.png?1695020953)"
      ],
      "metadata": {
        "id": "QHTZC1VJHpYY"
      }
    },
    {
      "cell_type": "markdown",
      "source": [
        "### Quotient rule"
      ],
      "metadata": {
        "id": "iC3TvdYIKXnG"
      }
    },
    {
      "cell_type": "markdown",
      "source": [
        "Here we have 2 functions which are being divided so $h(x)=\\frac{f(x)}{g(x)}$\n",
        "- To find the derivatie of $h(x)$ here are the steps\n",
        "  1. First we find the derivate of numerator and keep the denominator as it is\n",
        "  2. then we keep the numerator as it is and find the derivative of numerator\n",
        "  3. we subtract results of step 1 and 2\n",
        "  4. divide result in step 3 by $[g(x)]^2$"
      ],
      "metadata": {
        "id": "olBBB5mZKd3I"
      }
    },
    {
      "cell_type": "markdown",
      "source": [
        "![](https://d2beiqkhq929f0.cloudfront.net/public_assets/assets/000/048/907/original/Screenshot_2023-09-18_at_12.55.19_PM.png?1695021935)"
      ],
      "metadata": {
        "id": "HXyq3lANLk5g"
      }
    },
    {
      "cell_type": "markdown",
      "source": [
        "### Chain rule"
      ],
      "metadata": {
        "id": "QT1VnxwGLmdM"
      }
    },
    {
      "cell_type": "markdown",
      "source": [
        "Let say we have a function $h(x)$ which is defined as a function inside a functio ie $h(x)=f(g(x))$ and to find the derivate of $h(x)$ below are the steps\n",
        "1. keep $g(x)$ as a constant and find derivative of $f(x)$\n",
        "2. Multiply the result of step 1 with deriavtive of $g(x)$"
      ],
      "metadata": {
        "id": "6n0CH_n4LwRz"
      }
    },
    {
      "cell_type": "markdown",
      "source": [
        "![](https://d2beiqkhq929f0.cloudfront.net/public_assets/assets/000/048/908/original/Screenshot_2023-09-18_at_12.59.06_PM.png?1695022163)"
      ],
      "metadata": {
        "id": "jsA_6ew7MdTd"
      }
    },
    {
      "cell_type": "markdown",
      "source": [
        "## How do we use derivatives for optimization"
      ],
      "metadata": {
        "id": "mqyncMJ8NI0Y"
      }
    },
    {
      "cell_type": "markdown",
      "source": [
        "For the given curve\n",
        "- all the points to the left of point 1 will have a negative slope\n",
        "- similarly for point 3 and 5 we'll have a negative slope for all the points to the left of point 3 and 5\n",
        "\n",
        "And\n",
        "- all the points to the right of point 1 will have a positive slope\n",
        "- similarly for point 3 and 5 we'll have a positive slope for all the points to the right of point 3 and 5\n",
        "\n",
        "For points 2 and 4\n",
        "- on the left side we'll have a positive slope and on the right side we'll have negative slopes for all the points\n",
        "\n",
        "Now we call all this 5 points as **critical points** where the sign of the slope is changing\n",
        "- For points 1, 3 and 5 we can observe that the slope is changing from negative to positive and we call this points as **Minima**\n",
        "- For points 2 and 4 we can observe that the slope is changing from  positive to negative and we call this points as **Maxima**"
      ],
      "metadata": {
        "id": "3fhCn4ouNLYk"
      }
    },
    {
      "cell_type": "markdown",
      "source": [
        "![](https://d2beiqkhq929f0.cloudfront.net/public_assets/assets/000/048/912/original/Screenshot_2023-09-18_at_1.18.26_PM.png?1695023321)"
      ],
      "metadata": {
        "id": "qDz1V4_kQ3xR"
      }
    },
    {
      "cell_type": "markdown",
      "source": [
        "### How to identiy critical points for any function"
      ],
      "metadata": {
        "id": "09YwO4bqQ9MP"
      }
    },
    {
      "cell_type": "markdown",
      "source": [
        "Q. for the above function what is the slope or derivative at point 1,2,3,4 and 5?\n",
        "- It is 0\n",
        "\n",
        "Q. Out of points 1,3 and 5 which point is the lowest?\n",
        "- it is point 1 we call this point as the **global minima** and the points 3 and 5 are called as the **local minima** of the function\n",
        "\n",
        "Q. Out of points 2 and 4 which point has the highest peak or value?\n",
        "- it is point 4 we call this point as the **global maxima** and the points 2 is called as the **local maxima** of the function\n",
        "\n",
        "So to identiy critical points of any given function we find the point where derivate is equal to 0 and at that point the function would be flat"
      ],
      "metadata": {
        "id": "5GI_amPdRBk4"
      }
    },
    {
      "cell_type": "markdown",
      "source": [
        "![](https://d2beiqkhq929f0.cloudfront.net/public_assets/assets/000/048/918/original/Screenshot_2023-09-18_at_1.31.55_PM.png?1695024132)"
      ],
      "metadata": {
        "id": "okkKF9Y-T8oQ"
      }
    },
    {
      "cell_type": "markdown",
      "source": [
        "### How to indentify if a critical point is minima or maxima"
      ],
      "metadata": {
        "id": "kVNRmMfFUSm2"
      }
    },
    {
      "cell_type": "markdown",
      "source": [
        "One way to is as follows:\n",
        "- let say we want to identiy if point 1 is minima or maxima what we can do is we take another point which very close and left of point 1 and find the slope\n",
        "- and similarly we take another point which is very close and to the right side of point 1 and find the slope\n",
        "- next we verify if the change in slope if from negative to positive from left to right then it is minima and if the change in slope is from positive to negative then it is a maxima\n",
        "\n",
        "But this is a tedious and a length process"
      ],
      "metadata": {
        "id": "ALSW60QjUbDi"
      }
    },
    {
      "cell_type": "markdown",
      "source": [
        "Second way is to take a second derivate at all those critical points\n",
        "Now the second derivate can give us 3 possible values\n",
        "1. $f''(x)>0$ ie the second derivative is positive then we say that we have reached a **minima**\n",
        "2. $f''(x)<0$ ie the second derivative is negative then we say that we have reached a **maxima**\n",
        "3. $f''(x)=0$ ie the second derivative is positive then we say that we have reached a **Saddle point**\n",
        "\n",
        "When we looked at the plot of the first derivative of the slope we learnt that it is nothing but the slope at different values of x now when we look at the second derivate esentially what we are finding out is the **rate of change of slopes**"
      ],
      "metadata": {
        "id": "_INxcseEVPtu"
      }
    },
    {
      "cell_type": "markdown",
      "source": [
        "![](https://d2beiqkhq929f0.cloudfront.net/public_assets/assets/000/048/923/original/Screenshot_2023-09-18_at_2.13.49_PM.png?1695026641)"
      ],
      "metadata": {
        "id": "B7ycoIifdYc_"
      }
    },
    {
      "cell_type": "markdown",
      "source": [
        "Let's analyze the curve that we saw earlier for point 1\n",
        "- For point 1 we saw that the slopes is going from negative to positive ie for example from -3,-2,-1,0,1,2,3\n",
        "- Now to go from -3 to -2 we are adding a 1 to it so esentially we are changing the slope by adding a value similarly for rest of the points\n",
        "- So we can say that there is a positive change of rate of slopes from -3 to 3 which means that the double derivate is positive\n",
        "- **Thus when there is a positive rate of change in slopes then it will be a minima**\n",
        "\n",
        "Let's analyze the curve that we saw earlier for point 2\n",
        "- For point 2 we saw that the slopes is going from positive to negative ie for example from 3,2,1,0,-1,-2,-3\n",
        "- Now to go from -3 to -2 we are subtracting by -1 to it so esentially we are changing the slope by subtracting a value similarly for rest of the points.\n",
        "- So we can say that there is a negative change of rate of slopes from 3 to -3 which means that the double derivate is negagive\n",
        "- **Thus when there is a negative rate of change in slopes then it will be a maxima**"
      ],
      "metadata": {
        "id": "dI0BNzkhdoki"
      }
    },
    {
      "cell_type": "markdown",
      "source": [
        "![](https://d2beiqkhq929f0.cloudfront.net/public_assets/assets/000/048/926/original/Screenshot_2023-09-18_at_2.23.43_PM.png?1695027237)"
      ],
      "metadata": {
        "id": "PLeZEUTYfzs-"
      }
    },
    {
      "cell_type": "markdown",
      "source": [
        "**What is a Saddle point?**\n",
        "- Let say we have a curve as shown\n",
        "- For the marked point do you see that the slope is 0\n",
        "- Points to the left of this point will have a negative slope and points to the right side will also have a negative slope thus the signs are not changing\n",
        "- We call this points as **Saddle points**\n",
        "- These are points where the derivative is 0 but they are neither maxima or minima"
      ],
      "metadata": {
        "id": "u1l_eox6f8Cd"
      }
    },
    {
      "cell_type": "markdown",
      "source": [
        "![](https://d2beiqkhq929f0.cloudfront.net/public_assets/assets/000/048/927/original/Screenshot_2023-09-18_at_2.28.38_PM.png?1695027536)"
      ],
      "metadata": {
        "id": "5z7hujlTg8kk"
      }
    },
    {
      "cell_type": "markdown",
      "source": [
        "For the given function determines whether point 1,2 and 3 are minima, maxima or a saddle point"
      ],
      "metadata": {
        "id": "Tn1aKzRuiPzX"
      }
    },
    {
      "cell_type": "markdown",
      "source": [
        "![](https://d2beiqkhq929f0.cloudfront.net/public_assets/assets/000/048/928/original/Screenshot_2023-09-18_at_2.35.27_PM.png?1695027939)"
      ],
      "metadata": {
        "id": "6eOloX6Jie3M"
      }
    },
    {
      "cell_type": "code",
      "source": [],
      "metadata": {
        "id": "lM6rDVklwQuo"
      },
      "execution_count": null,
      "outputs": []
    }
  ]
}