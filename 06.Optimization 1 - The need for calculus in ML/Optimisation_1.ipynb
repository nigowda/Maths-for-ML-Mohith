{
  "cells": [
    {
      "cell_type": "code",
      "execution_count": 1,
      "metadata": {
        "colab": {
          "base_uri": "https://localhost:8080/"
        },
        "id": "eBFs4bG3xQCZ",
        "outputId": "31528fc3-543a-4bbe-c102-072bd2cfb789"
      },
      "outputs": [
        {
          "data": {
            "text/plain": [
              "8120601"
            ]
          },
          "execution_count": 1,
          "metadata": {},
          "output_type": "execute_result"
        }
      ],
      "source": [
        "201**3"
      ]
    },
    {
      "cell_type": "code",
      "execution_count": 2,
      "metadata": {
        "colab": {
          "base_uri": "https://localhost:8080/"
        },
        "id": "Giq-vdR3xRfY",
        "outputId": "a62adf37-48ab-405c-cd29-8f28a88f8642"
      },
      "outputs": [
        {
          "data": {
            "text/plain": [
              "8.120600999999999"
            ]
          },
          "execution_count": 2,
          "metadata": {},
          "output_type": "execute_result"
        }
      ],
      "source": [
        "# 8 seconds.\n",
        "(201**3) * (10**-6)"
      ]
    },
    {
      "cell_type": "code",
      "execution_count": 3,
      "metadata": {
        "colab": {
          "base_uri": "https://localhost:8080/"
        },
        "id": "qvcUOoc_xe-2",
        "outputId": "bbf90f5f-35ff-466c-97b1-e918326110ec"
      },
      "outputs": [
        {
          "data": {
            "text/plain": [
              "1632.240801"
            ]
          },
          "execution_count": 3,
          "metadata": {},
          "output_type": "execute_result"
        }
      ],
      "source": [
        "# 27 mins.\n",
        "(201**4) * (10**-6)"
      ]
    },
    {
      "cell_type": "code",
      "execution_count": 4,
      "metadata": {
        "colab": {
          "base_uri": "https://localhost:8080/"
        },
        "id": "tsfmtmScx43X",
        "outputId": "8c5bc765-5f4a-4cde-8597-70a8417710d9"
      },
      "outputs": [
        {
          "data": {
            "text/plain": [
              "328080.40100099996"
            ]
          },
          "execution_count": 4,
          "metadata": {},
          "output_type": "execute_result"
        }
      ],
      "source": [
        "# 91 hours.\n",
        "(201**5) * (10**-6)"
      ]
    },
    {
      "cell_type": "code",
      "execution_count": 5,
      "metadata": {
        "id": "plHmZPJgyIcG"
      },
      "outputs": [],
      "source": [
        "def f(x):\n",
        "    return x**2"
      ]
    },
    {
      "cell_type": "code",
      "execution_count": 6,
      "metadata": {
        "id": "sKCuHVvvyaYr"
      },
      "outputs": [],
      "source": [
        "def check_continuity(f, a):\n",
        "    lhl = f(a-0.00001)\n",
        "    rhl = f(a+0.00001)\n",
        "    fa = f(a)\n",
        "    print(lhl, rhl, fa)"
      ]
    },
    {
      "cell_type": "code",
      "execution_count": 10,
      "metadata": {},
      "outputs": [
        {
          "data": {
            "text/plain": [
              "<function __main__.f(x)>"
            ]
          },
          "execution_count": 10,
          "metadata": {},
          "output_type": "execute_result"
        }
      ],
      "source": [
        "f"
      ]
    },
    {
      "cell_type": "code",
      "execution_count": 7,
      "metadata": {
        "colab": {
          "base_uri": "https://localhost:8080/"
        },
        "id": "kCIlDE5yHVMh",
        "outputId": "d8951537-a92e-4ca0-e215-8472cc0305fd"
      },
      "outputs": [
        {
          "name": "stdout",
          "output_type": "stream",
          "text": [
            "0.9999800001000001 1.0000200001000001 1\n"
          ]
        }
      ],
      "source": [
        "check_continuity(f, 1)"
      ]
    },
    {
      "cell_type": "code",
      "execution_count": 8,
      "metadata": {
        "id": "a-ayWx_EHXWF"
      },
      "outputs": [],
      "source": [
        "def f_new(x):\n",
        "    if x>=2:\n",
        "        return 1\n",
        "    else:\n",
        "        return 0"
      ]
    },
    {
      "cell_type": "code",
      "execution_count": 11,
      "metadata": {
        "colab": {
          "base_uri": "https://localhost:8080/"
        },
        "id": "X637RGPTHtSh",
        "outputId": "5e46d9e2-aaa8-4853-de93-59ef5ab6eff6"
      },
      "outputs": [
        {
          "name": "stdout",
          "output_type": "stream",
          "text": [
            "0 1 1\n"
          ]
        }
      ],
      "source": [
        "check_continuity(f_new, 2)\n"
      ]
    },
    {
      "cell_type": "code",
      "execution_count": null,
      "metadata": {
        "id": "e93oM4bIHu0h"
      },
      "outputs": [],
      "source": []
    }
  ],
  "metadata": {
    "colab": {
      "provenance": []
    },
    "kernelspec": {
      "display_name": "Python 3",
      "name": "python3"
    },
    "language_info": {
      "codemirror_mode": {
        "name": "ipython",
        "version": 3
      },
      "file_extension": ".py",
      "mimetype": "text/x-python",
      "name": "python",
      "nbconvert_exporter": "python",
      "pygments_lexer": "ipython3",
      "version": "3.13.0"
    }
  },
  "nbformat": 4,
  "nbformat_minor": 0
}
